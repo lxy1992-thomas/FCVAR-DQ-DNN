{
 "cells": [
  {
   "cell_type": "code",
   "execution_count": 1,
   "id": "9f47f59f-6677-48e1-86f6-8b725c3263f8",
   "metadata": {},
   "outputs": [],
   "source": [
    "import numpy as np\n",
    "import pandas as pd\n",
    "import matplotlib.pyplot as plt\n",
    "import statsmodels.formula.api as smf\n",
    "import torch\n",
    "import math\n",
    "import random\n",
    "from sklearn.preprocessing import StandardScaler\n",
    "from sklearn_pandas import DataFrameMapper\n",
    "import torchtuples as tt\n",
    "from torchtuples import Model\n",
    "from sklearn.model_selection import train_test_split\n",
    "from torch import nn, Tensor\n",
    "import matplotlib.pyplot as plt\n",
    "from scipy.stats import norm\n",
    "import os\n",
    "os.environ[\"R_HOME\"] = f\"{os.environ['CONDA_PREFIX']}\\\\Lib\\\\R\"\n",
    "import rpy2.robjects as robjects\n",
    "from rpy2.robjects.packages import importr\n",
    "importr('quantreg')\n",
    "\n",
    "from torch import nn, Tensor\n",
    "from dqAux_new import dqNetSparse\n",
    "from localrqgrid import lprq0g\n",
    "from localrq import lprq0\n",
    "from ph import ph\n",
    "from bandwidthaic import bandwidthaic\n",
    "from ci import cifint"
   ]
  },
  {
   "cell_type": "code",
   "execution_count": 2,
   "id": "baa4b01f-0f51-4580-b8a3-c02b9f273f63",
   "metadata": {},
   "outputs": [
    {
     "name": "stderr",
     "output_type": "stream",
     "text": [
      "C:\\Users\\Administrator\\AppData\\Local\\Temp\\ipykernel_1128\\3308047405.py:223: FutureWarning: You are using `torch.load` with `weights_only=False` (the current default value), which uses the default pickle module implicitly. It is possible to construct malicious pickle data which will execute arbitrary code during unpickling (See https://github.com/pytorch/pytorch/blob/main/SECURITY.md#untrusted-models for more details). In a future release, the default value for `weights_only` will be flipped to `True`. This limits the functions that could be executed during unpickling. Arbitrary objects will no longer be allowed to be loaded via this mode unless they are explicitly allowlisted by the user via `torch.serialization.add_safe_globals`. We recommend you start setting `weights_only=True` for any use case where you don't have full control of the loaded file. Please open an issue on GitHub for any issues related to this experimental feature.\n",
      "  Netnew1=torch.load(r'E:/learning_python/weights/catdogclassifi_0.15_4000_1-%s.pth' % (239))\n",
      "C:\\Users\\Administrator\\AppData\\Local\\Temp\\ipykernel_1128\\3308047405.py:226: FutureWarning: You are using `torch.load` with `weights_only=False` (the current default value), which uses the default pickle module implicitly. It is possible to construct malicious pickle data which will execute arbitrary code during unpickling (See https://github.com/pytorch/pytorch/blob/main/SECURITY.md#untrusted-models for more details). In a future release, the default value for `weights_only` will be flipped to `True`. This limits the functions that could be executed during unpickling. Arbitrary objects will no longer be allowed to be loaded via this mode unless they are explicitly allowlisted by the user via `torch.serialization.add_safe_globals`. We recommend you start setting `weights_only=True` for any use case where you don't have full control of the loaded file. Please open an issue on GitHub for any issues related to this experimental feature.\n",
      "  Netnew2=torch.load(r'E:/learning_python/weights/catdogclassifi_0.15_4000_2-%s.pth' % (284))\n",
      "C:\\Users\\Administrator\\AppData\\Local\\Temp\\ipykernel_1128\\3308047405.py:229: FutureWarning: You are using `torch.load` with `weights_only=False` (the current default value), which uses the default pickle module implicitly. It is possible to construct malicious pickle data which will execute arbitrary code during unpickling (See https://github.com/pytorch/pytorch/blob/main/SECURITY.md#untrusted-models for more details). In a future release, the default value for `weights_only` will be flipped to `True`. This limits the functions that could be executed during unpickling. Arbitrary objects will no longer be allowed to be loaded via this mode unless they are explicitly allowlisted by the user via `torch.serialization.add_safe_globals`. We recommend you start setting `weights_only=True` for any use case where you don't have full control of the loaded file. Please open an issue on GitHub for any issues related to this experimental feature.\n",
      "  Netnew3=torch.load(r'E:/learning_python/weights/catdogclassifi_0.15_4000_3-%s.pth' % (139))\n",
      "C:\\Users\\Administrator\\AppData\\Local\\Temp\\ipykernel_1128\\3308047405.py:232: FutureWarning: You are using `torch.load` with `weights_only=False` (the current default value), which uses the default pickle module implicitly. It is possible to construct malicious pickle data which will execute arbitrary code during unpickling (See https://github.com/pytorch/pytorch/blob/main/SECURITY.md#untrusted-models for more details). In a future release, the default value for `weights_only` will be flipped to `True`. This limits the functions that could be executed during unpickling. Arbitrary objects will no longer be allowed to be loaded via this mode unless they are explicitly allowlisted by the user via `torch.serialization.add_safe_globals`. We recommend you start setting `weights_only=True` for any use case where you don't have full control of the loaded file. Please open an issue on GitHub for any issues related to this experimental feature.\n",
      "  Netnew4=torch.load(r'E:/learning_python/weights/catdogclassifi_0.15_4000_4-%s.pth' % (187))\n"
     ]
    },
    {
     "name": "stdout",
     "output_type": "stream",
     "text": [
      "0\n",
      "1\n",
      "2\n",
      "3\n",
      "4\n",
      "5\n",
      "6\n",
      "7\n",
      "8\n",
      "9\n",
      "10\n",
      "11\n",
      "12\n",
      "13\n",
      "14\n",
      "15\n",
      "16\n",
      "17\n",
      "18\n",
      "19\n",
      "20\n",
      "21\n",
      "22\n",
      "23\n",
      "24\n",
      "25\n",
      "26\n",
      "27\n",
      "28\n",
      "29\n",
      "30\n",
      "31\n",
      "32\n",
      "33\n",
      "34\n",
      "35\n",
      "36\n",
      "37\n",
      "38\n",
      "39\n",
      "40\n",
      "41\n",
      "42\n",
      "43\n",
      "44\n",
      "45\n",
      "46\n",
      "47\n",
      "48\n",
      "49\n",
      "50\n",
      "51\n",
      "52\n",
      "53\n",
      "54\n",
      "55\n",
      "56\n",
      "57\n",
      "58\n",
      "59\n",
      "60\n",
      "61\n",
      "62\n",
      "63\n",
      "64\n",
      "65\n",
      "66\n",
      "67\n",
      "68\n",
      "69\n",
      "70\n",
      "71\n",
      "72\n",
      "73\n",
      "74\n",
      "75\n",
      "76\n",
      "77\n",
      "78\n",
      "79\n",
      "80\n",
      "81\n",
      "82\n",
      "83\n",
      "84\n",
      "85\n",
      "86\n",
      "87\n",
      "88\n",
      "89\n",
      "90\n",
      "91\n",
      "92\n",
      "93\n",
      "94\n",
      "95\n",
      "96\n",
      "97\n",
      "98\n",
      "99\n",
      "100\n",
      "101\n",
      "102\n",
      "103\n",
      "104\n",
      "105\n",
      "106\n",
      "107\n",
      "108\n",
      "109\n",
      "110\n",
      "111\n",
      "112\n",
      "113\n",
      "114\n",
      "115\n",
      "116\n",
      "117\n",
      "118\n",
      "119\n",
      "120\n",
      "121\n",
      "122\n",
      "123\n",
      "124\n",
      "125\n",
      "126\n",
      "127\n",
      "128\n",
      "129\n",
      "130\n",
      "131\n",
      "132\n",
      "133\n",
      "134\n",
      "135\n",
      "136\n",
      "137\n",
      "138\n",
      "139\n",
      "140\n",
      "141\n",
      "142\n",
      "143\n",
      "144\n",
      "145\n",
      "146\n",
      "147\n",
      "148\n",
      "149\n",
      "150\n",
      "151\n",
      "152\n",
      "153\n",
      "154\n",
      "155\n",
      "156\n",
      "157\n",
      "158\n",
      "159\n",
      "160\n",
      "161\n",
      "162\n",
      "163\n",
      "164\n",
      "165\n",
      "166\n",
      "167\n",
      "168\n",
      "169\n",
      "170\n",
      "171\n",
      "172\n",
      "173\n",
      "174\n",
      "175\n",
      "176\n",
      "177\n",
      "178\n",
      "179\n",
      "180\n",
      "181\n",
      "182\n",
      "183\n",
      "184\n",
      "185\n",
      "186\n",
      "187\n",
      "188\n",
      "189\n",
      "190\n",
      "191\n",
      "192\n",
      "193\n",
      "194\n",
      "195\n",
      "196\n",
      "197\n",
      "198\n",
      "199\n"
     ]
    }
   ],
   "source": [
    "#Generate GARCH(1,1)\n",
    "\n",
    "B=500\n",
    "grid=np.arange(-1.75,1.85,0.1)\n",
    "ngrid=len(grid)\n",
    "\n",
    "ECR10=np.zeros((B,ngrid))\n",
    "ECR11=np.zeros((B,ngrid))\n",
    "ECR12=np.zeros((B,ngrid))\n",
    "ECR13=np.zeros((B,ngrid))\n",
    "ECR14=np.zeros((B,ngrid))\n",
    "ECR15=np.zeros((B,ngrid))\n",
    "ECR16=np.zeros((B,ngrid))\n",
    "ECR17=np.zeros((B,ngrid))\n",
    "ECR18=np.zeros((B,ngrid))\n",
    "\n",
    "ECR20=np.zeros((B,ngrid))\n",
    "ECR21=np.zeros((B,ngrid))\n",
    "ECR22=np.zeros((B,ngrid))\n",
    "ECR23=np.zeros((B,ngrid))\n",
    "ECR24=np.zeros((B,ngrid))\n",
    "ECR25=np.zeros((B,ngrid))\n",
    "ECR26=np.zeros((B,ngrid))\n",
    "ECR27=np.zeros((B,ngrid))\n",
    "ECR28=np.zeros((B,ngrid))\n",
    "\n",
    "ECR30=np.zeros((B,ngrid))\n",
    "ECR31=np.zeros((B,ngrid))\n",
    "ECR32=np.zeros((B,ngrid))\n",
    "ECR33=np.zeros((B,ngrid))\n",
    "ECR34=np.zeros((B,ngrid))\n",
    "ECR35=np.zeros((B,ngrid))\n",
    "ECR36=np.zeros((B,ngrid))\n",
    "ECR37=np.zeros((B,ngrid))\n",
    "ECR38=np.zeros((B,ngrid))\n",
    "\n",
    "ECR40=np.zeros((B,ngrid))\n",
    "ECR41=np.zeros((B,ngrid))\n",
    "ECR42=np.zeros((B,ngrid))\n",
    "ECR43=np.zeros((B,ngrid))\n",
    "ECR44=np.zeros((B,ngrid))\n",
    "ECR45=np.zeros((B,ngrid))\n",
    "ECR46=np.zeros((B,ngrid))\n",
    "ECR47=np.zeros((B,ngrid))\n",
    "ECR48=np.zeros((B,ngrid))\n",
    "\n",
    "#Define functional coefficients\n",
    "def g10(x): return 1.5*np.exp(-3*(x+1)**2)+1*np.exp(-8*(x-1)**2)\n",
    "def g11(x): return (0.15*np.exp(4*x)/(1+np.exp(4*x)))\n",
    "def g12(x): return (0.04*(x)**2)\n",
    "def g13(x): return (0.15*np.exp(-4*x)/(1+np.exp(-4*x)))\n",
    "def g14(x): return (0.1*((np.cos(x))**2))\n",
    "def g15(x): return (0.15*np.exp(4*x)/(1+np.exp(4*x)))\n",
    "def g16(x): return (0.04*(x)**2)\n",
    "def g17(x): return (0.15*np.exp(-4*x)/(1+np.exp(-4*x)))\n",
    "def g18(x): return (0.1*((np.cos(x))**2))\n",
    "\n",
    "def g20(x): return 1.5*np.exp(-3*(x-1)**2)+1*np.exp(-8*(x+1)**2)\n",
    "def g21(x): return (0.1*np.sin(-0.8*np.pi*x)+0.1)\n",
    "def g22(x): return (0.15*np.exp(4*x)/(1+np.exp(4*x)))\n",
    "def g23(x): return (0.1*np.sin(-0.8*np.pi*x)+0.1)\n",
    "def g24(x): return (0.15*np.exp(-4*x)/(1+np.exp(-4*x)))\n",
    "def g25(x): return (0.1*np.sin(-0.8*np.pi*x)+0.1)\n",
    "def g26(x): return (0.15*np.exp(4*x)/(1+np.exp(4*x)))\n",
    "def g27(x): return (0.1*np.sin(-0.8*np.pi*x)+0.1)\n",
    "def g28(x): return (0.15*np.exp(-4*x)/(1+np.exp(-4*x)))\n",
    "    \n",
    "def g30(x): return 1.5*np.exp(-3*(x+1)**2)+1*np.exp(-8*(x-1)**2)\n",
    "def g31(x): return (0.1*np.sin(0.8*np.pi*x)+0.1)\n",
    "def g32(x): return (0.1*np.cos(0.8*np.pi*x)+0.1)\n",
    "def g33(x): return (0.1*np.sin(0.8*np.pi*x)+0.1)\n",
    "def g34(x): return (0.1*np.cos(0.8*np.pi*x)+0.1)\n",
    "def g35(x): return (0.1*np.sin(0.8*np.pi*x)+0.1)\n",
    "def g36(x): return (0.1*np.cos(0.8*np.pi*x)+0.1)\n",
    "def g37(x): return (0.1*np.sin(0.8*np.pi*x)+0.1)\n",
    "def g38(x): return (0.1*np.cos(0.8*np.pi*x)+0.1)\n",
    "\n",
    "def g40(x): return 1.5*np.exp(-3*(x-1)**2)+1*np.exp(-8*(x+1)**2)\n",
    "def g41(x): return (0.1*np.cos(0.8*np.pi*x)+0.1)\n",
    "def g42(x): return (0.1*np.sin(0.8*np.pi*x)+0.1)\n",
    "def g43(x): return (0.1*np.cos(0.8*np.pi*x)+0.1)\n",
    "def g44(x): return (0.1*np.sin(0.8*np.pi*x)+0.1)\n",
    "def g45(x): return (0.1*np.cos(0.8*np.pi*x)+0.1)\n",
    "def g46(x): return (0.1*np.sin(0.8*np.pi*x)+0.1)\n",
    "def g47(x): return (0.1*np.cos(0.8*np.pi*x)+0.1)\n",
    "def g48(x): return (0.1*np.sin(0.8*np.pi*x)+0.1)\n",
    "\n",
    "tau=0.15\n",
    "n=4000\n",
    "\n",
    "for b in range(B):  \n",
    "    \n",
    " index=np.zeros((n,1))\n",
    " coefx1=np.zeros((n,9))\n",
    " coefx2=np.zeros((n,9))\n",
    " coefx3=np.zeros((n,9))\n",
    " coefx4=np.zeros((n,9))\n",
    "  \n",
    " Y1=np.zeros((n,1))\n",
    " Y1[0]=0\n",
    " stdev1=np.zeros((n,1))\n",
    " stdev1[0]=1\n",
    " Y2=np.zeros((n,1))\n",
    " Y2[0]=0\n",
    " stdev2=np.zeros((n,1))\n",
    " stdev2[0]=1\n",
    "  \n",
    " Y3=np.zeros((n,1))\n",
    " Y3[0]=0\n",
    " stdev3=np.zeros((n,1))\n",
    " stdev3[0]=1\n",
    " Y4=np.zeros((n,1))\n",
    " Y4[0]=0\n",
    " stdev4=np.zeros((n,1))\n",
    " stdev4[0]=1 \n",
    "\n",
    " for j in range(2,(n+1)):\n",
    "    \n",
    "     index[j-1]=np.random.uniform(-2,2+10**-10,1)\n",
    "     e1=np.random.uniform(0,1+10**-10,1)\n",
    "     e2=np.random.uniform(0,1+10**-10,1)\n",
    "     e3=np.random.uniform(0,1+10**-10,1)\n",
    "     e4=np.random.uniform(0,1+10**-10,1)\n",
    "     e31=(0.2*(e1)**2)+0.8\n",
    "     e32=(0.2*np.exp(e1))+0.8\n",
    "     e41=(0.2*(e2)**2)+0.8\n",
    "     e42=(0.2*np.exp(e2))+0.8\n",
    "     e51=(0.2*(e3)**2)+0.8\n",
    "     e52=(0.2*np.exp(e3))+0.8\n",
    "     e61=(0.2*(e4)**2)+0.8\n",
    "     e62=(0.2*np.exp(e4))+0.8\n",
    "    \n",
    "     e5=np.random.normal(0,1,1)\n",
    "     e6=np.random.normal(0,1,1)   \n",
    "     e7=np.random.normal(0,1,1) \n",
    "     e8=np.random.normal(0,1,1) \n",
    "\n",
    "     coefx1[j-1,]=[g10(index[j-1]).item(),(g11(index[j-1])*e31).item(),(g12(index[j-1])*e32).item(),(g13(index[j-1])*e31).item(),(g14(index[j-1])*e32).item(),g15(index[j-1]).item(),g16(index[j-1]).item(),g17(index[j-1]).item(),g18(index[j-1]).item()]\n",
    "     coefx2[j-1,]=[g20(index[j-1]).item(),(g21(index[j-1])*e41).item(),(g22(index[j-1])*e42).item(),(g23(index[j-1])*e41).item(),(g24(index[j-1])*e42).item(),g25(index[j-1]).item(),g26(index[j-1]).item(),g27(index[j-1]).item(),g28(index[j-1]).item()]\n",
    "     coefx3[j-1,]=[g30(index[j-1]).item(),(g31(index[j-1])*e51).item(),(g32(index[j-1])*e52).item(),(g33(index[j-1])*e51).item(),(g34(index[j-1])*e52).item(),g35(index[j-1]).item(),g36(index[j-1]).item(),g37(index[j-1]).item(),g38(index[j-1]).item()]\n",
    "     coefx4[j-1,]=[g40(index[j-1]).item(),(g41(index[j-1])*e61).item(),(g42(index[j-1])*e62).item(),(g43(index[j-1])*e61).item(),(g44(index[j-1])*e62).item(),g45(index[j-1]).item(),g46(index[j-1]).item(),g47(index[j-1]).item(),g48(index[j-1]).item()]\n",
    "    \n",
    "     stdev1[j-1]=np.dot(coefx1[j-1,],[1,stdev1[j-2].item(),stdev2[j-2].item(),stdev3[j-2].item(),stdev4[j-2].item(),np.absolute(Y1[j-2]).item(),np.absolute(Y2[j-2]).item(),np.absolute(Y3[j-2]).item(),np.absolute(Y4[j-2]).item()])\n",
    "     stdev2[j-1]=np.dot(coefx2[j-1,],[1,stdev1[j-2].item(),stdev2[j-2].item(),stdev3[j-2].item(),stdev4[j-2].item(),np.absolute(Y1[j-2]).item(),np.absolute(Y2[j-2]).item(),np.absolute(Y3[j-2]).item(),np.absolute(Y4[j-2]).item()])\n",
    "     stdev3[j-1]=np.dot(coefx3[j-1,],[1,stdev1[j-2].item(),stdev2[j-2].item(),stdev3[j-2].item(),stdev4[j-2].item(),np.absolute(Y1[j-2]).item(),np.absolute(Y2[j-2]).item(),np.absolute(Y3[j-2]).item(),np.absolute(Y4[j-2]).item()])\n",
    "     stdev4[j-1]=np.dot(coefx4[j-1,],[1,stdev1[j-2].item(),stdev2[j-2].item(),stdev3[j-2].item(),stdev4[j-2].item(),np.absolute(Y1[j-2]).item(),np.absolute(Y2[j-2]).item(),np.absolute(Y3[j-2]).item(),np.absolute(Y4[j-2]).item()])\n",
    "    \n",
    "     Y1[j-1]=stdev1[j-1]*e5\n",
    "     Y2[j-1]=stdev2[j-1]*e6\n",
    "     Y3[j-1]=stdev3[j-1]*e7\n",
    "     Y4[j-1]=stdev4[j-1]*e8\n",
    " \n",
    " Y1=Y1[1:n]\n",
    " Y2=Y2[1:n]\n",
    " Y3=Y3[1:n]\n",
    " Y4=Y4[1:n]\n",
    " stdev1=stdev1[1:n]\n",
    " stdev2=stdev2[1:n]\n",
    " stdev3=stdev3[1:n]\n",
    " stdev4=stdev4[1:n]\n",
    " index=index[1:n]\n",
    " n=np.size(index,0)\n",
    "  \n",
    " ymax1=np.max(Y1)\n",
    " ymax2=np.max(Y2)\n",
    " ymin1=np.min(Y1)\n",
    " ymin2=np.min(Y2)\n",
    " ymax3=np.max(Y3)\n",
    " ymax4=np.max(Y4)\n",
    " ymin3=np.min(Y3)\n",
    " ymin4=np.min(Y4)\n",
    "\n",
    " yrange1=np.max(ymax1)-np.min(ymin1)\n",
    " yrange2=np.max(ymax2)-np.min(ymin2)\n",
    " yrange3=np.max(ymax3)-np.min(ymin3)\n",
    " yrange4=np.max(ymax4)-np.min(ymin4) \n",
    "    \n",
    " #Preliminary step\n",
    " L=1#int(np.floor(0.4*np.log(n)))\n",
    " preY=np.hstack((Y1,Y2,Y3,Y4))\n",
    " Y=np.hstack((Y1[(L+1):(n-1)],Y2[(L+1):(n-1)],Y3[(L+1):(n-1)],Y4[(L+1):(n-1)]))\n",
    " indexz=index[(L+1):(n-1)]\n",
    " kap=np.size(preY,1)\n",
    " preY11=np.zeros(((n-L-2),(kap*(L+1))))\n",
    " indexzz=np.zeros(((n-L-2),(L+1)))\n",
    "  \n",
    " for lg in range(L+1):\n",
    "    \n",
    "   preY11[:,(kap*lg):(kap*(lg+1))]=np.absolute(preY[((L+1)-lg-1):(n-1-lg-1),:])\n",
    "   indexzz[:,lg]=index[((L+1)-(lg)):((n-1)-(lg))].reshape(-1)\n",
    "\n",
    " nm0=np.zeros((L+2,1))\n",
    " nm0[0]=0\n",
    " for l in range(L+1):\n",
    "   nm0[(l+1)]=nm0[l]+(l+1)+kap\n",
    " nm0[0]=0\n",
    " nm=nm0.astype(int)\n",
    "\n",
    " x_trainin=np.zeros((n-L-2,nm[L+1][0]))\n",
    " for ll in range(L+1):\n",
    "   x_trainin[:,(nm[ll][0]):nm[(ll+1)][0]]=np.hstack((indexzz[:,0:(ll+1)],preY11[:,(kap*ll):(kap*(ll+1))]))\n",
    "\n",
    " # standardize covariates\n",
    " Y_1=torch.tensor(Y[:,0].reshape(-1,1).astype('float32'))\n",
    " Y_2=torch.tensor(Y[:,1].reshape(-1,1).astype('float32'))\n",
    " Y_3=torch.tensor(Y[:,2].reshape(-1,1).astype('float32'))\n",
    " Y_4=torch.tensor(Y[:,3].reshape(-1,1).astype('float32'))\n",
    " indexz=torch.tensor(indexz.astype('float32'))\n",
    "\n",
    " preY11=torch.tensor(preY11.astype('float32'))\n",
    " indexzz=torch.tensor(indexzz.astype('float32'))\n",
    " #x_train=torch.cat((indexzz,preY11),1) \n",
    " x_test=torch.tensor(x_trainin.astype('float32'))\n",
    "    \n",
    " # hyperparameters\n",
    " nodes = [2,128] # number of network layers and nodes per layer\n",
    " lr = 0.001\n",
    " epochs = 500\n",
    " verbose = False\n",
    " sparseRatio = 0.5\n",
    "\n",
    " # neural networks\n",
    " Netnew1=torch.load(r'E:/learning_python/weights/catdogclassifi_0.15_4000_1-%s.pth' % (239))\n",
    " sigmatile1=Netnew1(x_test).detach().numpy()\n",
    "\n",
    " Netnew2=torch.load(r'E:/learning_python/weights/catdogclassifi_0.15_4000_2-%s.pth' % (284))\n",
    " sigmatile2=Netnew2(x_test).detach().numpy() \n",
    "\n",
    " Netnew3=torch.load(r'E:/learning_python/weights/catdogclassifi_0.15_4000_3-%s.pth' % (139))\n",
    " sigmatile3=Netnew3(x_test).detach().numpy()\n",
    "\n",
    " Netnew4=torch.load(r'E:/learning_python/weights/catdogclassifi_0.15_4000_4-%s.pth' % (187))\n",
    " sigmatile4=Netnew4(x_test).detach().numpy()\n",
    "\n",
    " sigmatile=np.hstack((sigmatile1,sigmatile2,sigmatile3,sigmatile4)) \n",
    "    \n",
    " #Step 2\n",
    " L1=1\n",
    " Ynew=np.hstack((Y1[(L+2):n],Y2[(L+2):n],Y3[(L+2):n],Y4[(L+2):n]))\n",
    " indexzz2=index[(L+2):n]\n",
    " ztile1=np.hstack((sigmatile,np.absolute(Y)))\n",
    "  \n",
    " ymax1=np.max(Y1)\n",
    " ymax2=np.max(Y2)\n",
    " ymin1=np.min(Y1)\n",
    " ymin2=np.min(Y2)\n",
    " ymax3=np.max(Y3)\n",
    " ymax4=np.max(Y4)\n",
    " ymin3=np.min(Y3)\n",
    " ymin4=np.min(Y4)\n",
    "\n",
    " b11=0.06*19.17221\n",
    " b12=0.3*19.17221\n",
    " b21=0.06*19.41568\n",
    " b22=0.3*19.41568\n",
    "  \n",
    " y_rangenew1=np.median(ymax1)-np.median(ymin1)\n",
    " h0cnew1=np.arange(b11*((n-L-L1-1)**-0.2),b12*((n-L-L1-1)**-0.2),0.2)\n",
    " y_rangenew2=np.median(ymax2)-np.median(ymin2)\n",
    " h0cnew2=np.arange(b21*((n-L-L1-1)**-0.2),b22*((n-L-L1-1)**-0.2),0.2)\n",
    " nh1=len(h0cnew1)\n",
    " nh2=len(h0cnew2)\n",
    " aicval1=np.zeros(nh1)\n",
    " aicval2=np.zeros(nh2)\n",
    " aicval3=np.zeros(nh1)\n",
    " aicval4=np.zeros(nh2)\n",
    "\n",
    " #for kk1 in range(nh1):\n",
    "   #aic,RSSm=bandwidthaic(Ynew[:,0],ztile1,tau,h0cnew1[kk1],indexzz2,indexzz2)\n",
    "   #aicval1[kk1]=aic\n",
    "   #print(kk1)\n",
    "\n",
    " #ind5=np.argmin(aicval1)\n",
    " #hpf5=h0cnew1[ind5]  \n",
    " #hpf5\n",
    " hpf5=0.8190273\n",
    "\n",
    " #for kk2 in range(nh2):\n",
    "   #aic,RSSm=bandwidthaic(Ynew[:,1],ztile1,tau,h0cnew2[kk2],indexzz2,indexzz2)\n",
    "   #aicval2[kk2]=aic\n",
    "   #print(kk2)\n",
    "  \n",
    " #ind6=np.argmin(aicval2)\n",
    " #hpf6=h0cnew2[ind6]\n",
    " #hpf6\n",
    " hpf6=0.8218088   \n",
    "\n",
    " #for kk3 in range(nh1):\n",
    "   #aic,RSSm=bandwidthaic(Ynew[:,2],ztile1,tau,h0cnew1[kk3],indexzz2,indexzz2)\n",
    "   #aicval3[kk3]=aic\n",
    "   #print(kk3)\n",
    "  \n",
    " #ind7=np.argmin(aicval3)\n",
    " #hpf7=h0cnew1[ind7]  \n",
    " #hpf7\n",
    " hpf7=0.8190273 \n",
    "\n",
    " #for kk4 in range(nh2):\n",
    "   #aic,RSSm=bandwidthaic(Ynew[:,3],ztile1,tau,h0cnew2[kk4],indexzz2,indexzz2)\n",
    "   #aicval4[kk4]=aic\n",
    "   #print(kk4)\n",
    "  \n",
    " #ind8=np.argmin(aicval4)\n",
    " #hpf8=h0cnew2[ind8]\n",
    " #hpf8\n",
    " hpf8=0.8218088\n",
    "\n",
    " grid=np.arange(-1.75,1.85,0.1)\n",
    " ngrid=len(grid)\n",
    "\n",
    " fv, dv, w0 = lprq0g(Ynew[:,0], ztile1, hpf5, tau, indexzz2, grid)\n",
    " ainfinal1=fv\n",
    " fv, dv, w0 = lprq0g(Ynew[:,1], ztile1, hpf6, tau, indexzz2, grid)\n",
    " ainfinal2=fv\n",
    "  \n",
    " fv, dv, w0 = lprq0g(Ynew[:,2], ztile1, hpf7, tau, indexzz2, grid)\n",
    " ainfinal3=fv\n",
    " fv, dv, w0 = lprq0g(Ynew[:,3], ztile1, hpf8, tau, indexzz2, grid)\n",
    " ainfinal4=fv\n",
    "\n",
    " #Confidence interval\n",
    " #CI1\n",
    " uerror,lerror=cifint(Ynew[:,0],ztile1,ainfinal1,hpf5,tau,indexzz2,grid)\n",
    " uerror1=uerror\n",
    " lerror1=lerror\n",
    "  \n",
    " ainfadj1=ainfinal1\n",
    " upper1=ainfadj1+uerror1\n",
    " lower1=ainfadj1+lerror1\n",
    "\n",
    " #CI2\n",
    " uerror,lerror=cifint(Ynew[:,1],ztile1,ainfinal2,hpf6,tau,indexzz2,grid)\n",
    " uerror2=uerror\n",
    " lerror2=lerror\n",
    "  \n",
    " ainfadj2=ainfinal2\n",
    " upper2=ainfadj2+uerror2\n",
    " lower2=ainfadj2+lerror2\n",
    "\n",
    " #CI3\n",
    " uerror,lerror=cifint(Ynew[:,2],ztile1,ainfinal3,hpf7,tau,indexzz2,grid)\n",
    " uerror3=uerror\n",
    " lerror3=lerror\n",
    "  \n",
    " ainfadj3=ainfinal3\n",
    " upper3=ainfadj3+uerror3\n",
    " lower3=ainfadj3+lerror3  \n",
    "\n",
    " #CI2\n",
    " uerror,lerror=cifint(Ynew[:,3],ztile1,ainfinal4,hpf8,tau,indexzz2,grid)\n",
    " uerror4=uerror\n",
    " lerror4=lerror\n",
    "  \n",
    " ainfadj4=ainfinal4\n",
    " upper4=ainfadj4+uerror4\n",
    " lower4=ainfadj4+lerror4\n",
    "    \n",
    " aintrue10=np.zeros(ngrid)\n",
    " aintrue11=np.zeros(ngrid)\n",
    " aintrue12=np.zeros(ngrid)\n",
    " aintrue13=np.zeros(ngrid)\n",
    " aintrue14=np.zeros(ngrid)\n",
    " aintrue15=np.zeros(ngrid)\n",
    " aintrue16=np.zeros(ngrid)\n",
    " aintrue17=np.zeros(ngrid)\n",
    " aintrue18=np.zeros(ngrid)\n",
    "  \n",
    " aintrue20=np.zeros(ngrid)\n",
    " aintrue21=np.zeros(ngrid)\n",
    " aintrue22=np.zeros(ngrid)\n",
    " aintrue23=np.zeros(ngrid)\n",
    " aintrue24=np.zeros(ngrid)\n",
    " aintrue25=np.zeros(ngrid)\n",
    " aintrue26=np.zeros(ngrid)\n",
    " aintrue27=np.zeros(ngrid)\n",
    " aintrue28=np.zeros(ngrid)\n",
    "  \n",
    " aintrue30=np.zeros(ngrid)\n",
    " aintrue31=np.zeros(ngrid)\n",
    " aintrue32=np.zeros(ngrid)\n",
    " aintrue33=np.zeros(ngrid)\n",
    " aintrue34=np.zeros(ngrid)\n",
    " aintrue35=np.zeros(ngrid)\n",
    " aintrue36=np.zeros(ngrid)\n",
    " aintrue37=np.zeros(ngrid)\n",
    " aintrue38=np.zeros(ngrid)\n",
    "  \n",
    " aintrue40=np.zeros(ngrid)\n",
    " aintrue41=np.zeros(ngrid)\n",
    " aintrue42=np.zeros(ngrid)\n",
    " aintrue43=np.zeros(ngrid)\n",
    " aintrue44=np.zeros(ngrid)\n",
    " aintrue45=np.zeros(ngrid)\n",
    " aintrue46=np.zeros(ngrid)\n",
    " aintrue47=np.zeros(ngrid)\n",
    " aintrue48=np.zeros(ngrid)\n",
    "    \n",
    " for k in range(ngrid):\n",
    "    aintrue10[k]=g10(grid[k]).item()\n",
    "    aintrue11[k]=g11(grid[k]).item()\n",
    "    aintrue12[k]=g12(grid[k]).item()\n",
    "    aintrue13[k]=g13(grid[k]).item()\n",
    "    aintrue14[k]=g14(grid[k]).item()\n",
    "    aintrue15[k]=g15(grid[k]).item()\n",
    "    aintrue16[k]=g16(grid[k]).item()\n",
    "    aintrue17[k]=g17(grid[k]).item()\n",
    "    aintrue18[k]=g18(grid[k]).item()\n",
    "    \n",
    "  \n",
    " for k in range(ngrid):\n",
    "    aintrue20[k]=g20(grid[k]).item()\n",
    "    aintrue21[k]=g21(grid[k]).item()\n",
    "    aintrue22[k]=g22(grid[k]).item()\n",
    "    aintrue23[k]=g23(grid[k]).item()\n",
    "    aintrue24[k]=g24(grid[k]).item()\n",
    "    aintrue25[k]=g25(grid[k]).item()\n",
    "    aintrue26[k]=g26(grid[k]).item()\n",
    "    aintrue27[k]=g27(grid[k]).item()\n",
    "    aintrue28[k]=g28(grid[k]).item()\n",
    "    \n",
    "  \n",
    " for k in range(ngrid):\n",
    "    aintrue30[k]=g30(grid[k]).item()\n",
    "    aintrue31[k]=g31(grid[k]).item()\n",
    "    aintrue32[k]=g32(grid[k]).item()\n",
    "    aintrue33[k]=g33(grid[k]).item()\n",
    "    aintrue34[k]=g34(grid[k]).item()\n",
    "    aintrue35[k]=g35(grid[k]).item()\n",
    "    aintrue36[k]=g36(grid[k]).item()\n",
    "    aintrue37[k]=g37(grid[k]).item()\n",
    "    aintrue38[k]=g38(grid[k]).item()\n",
    "    \n",
    "  \n",
    " for k in range(ngrid):\n",
    "    aintrue40[k]=g40(grid[k]).item()\n",
    "    aintrue41[k]=g41(grid[k]).item()\n",
    "    aintrue42[k]=g42(grid[k]).item()\n",
    "    aintrue43[k]=g43(grid[k]).item()\n",
    "    aintrue44[k]=g44(grid[k]).item()\n",
    "    aintrue45[k]=g45(grid[k]).item()\n",
    "    aintrue46[k]=g46(grid[k]).item()\n",
    "    aintrue47[k]=g47(grid[k]).item()\n",
    "    aintrue48[k]=g48(grid[k]).item()\n",
    "\n",
    " for g in range(ngrid):\n",
    "    \n",
    "    ECR10[b,g]=(1 if lower1[g,0]<=aintrue10[g]*(norm.ppf(tau,0,1)) and aintrue10[g]*(norm.ppf(tau,0,1))<=upper1[g,0] else 0)\n",
    "    ECR11[b,g]=(1 if lower1[g,1]<=aintrue11[g]*((0.2*(tau)**2)+0.8) and aintrue11[g]*((0.2*(tau)**2)+0.8)<=upper1[g,1] else 0)\n",
    "    ECR12[b,g]=(1 if lower1[g,2]<=aintrue12[g]*((0.2*np.exp(tau))+0.8) and aintrue12[g]*((0.2*np.exp(tau))+0.8)<=upper1[g,2] else 0)\n",
    "    ECR13[b,g]=(1 if lower1[g,3]<=aintrue13[g]*((0.2*(tau)**2)+0.8) and aintrue13[g]*((0.2*(tau)**2)+0.8)<=upper1[g,3] else 0)\n",
    "    ECR14[b,g]=(1 if lower1[g,4]<=aintrue14[g]*((0.2*np.exp(tau))+0.8) and aintrue14[g]*((0.2*np.exp(tau))+0.8)<=upper1[g,4] else 0)\n",
    "    ECR15[b,g]=(1 if lower1[g,5]<=aintrue15[g]*(norm.ppf(tau,0,1)) and aintrue15[g]*(norm.ppf(tau,0,1))<=upper1[g,5] else 0)\n",
    "    ECR16[b,g]=(1 if lower1[g,6]<=aintrue16[g]*(norm.ppf(tau,0,1)) and aintrue16[g]*(norm.ppf(tau,0,1))<=upper1[g,6] else 0)\n",
    "    ECR17[b,g]=(1 if lower1[g,7]<=aintrue17[g]*(norm.ppf(tau,0,1)) and aintrue17[g]*(norm.ppf(tau,0,1))<=upper1[g,7] else 0)\n",
    "    ECR18[b,g]=(1 if lower1[g,8]<=aintrue18[g]*(norm.ppf(tau,0,1)) and aintrue18[g]*(norm.ppf(tau,0,1))<=upper1[g,8] else 0)\n",
    "    \n",
    "    ECR20[b,g]=(1 if lower2[g,0]<=aintrue20[g]*(norm.ppf(tau,0,1)) and aintrue20[g]*(norm.ppf(tau,0,1))<=upper2[g,0] else 0)\n",
    "    ECR21[b,g]=(1 if lower2[g,1]<=aintrue21[g]*((0.2*(tau)**2)+0.8) and aintrue21[g]*((0.2*(tau)**2)+0.8)<=upper2[g,1] else 0)\n",
    "    ECR22[b,g]=(1 if lower2[g,2]<=aintrue22[g]*((0.2*np.exp(tau))+0.8) and aintrue22[g]*((0.2*np.exp(tau))+0.8)<=upper2[g,2] else 0)\n",
    "    ECR23[b,g]=(1 if lower2[g,3]<=aintrue23[g]*((0.2*(tau)**2)+0.8) and aintrue23[g]*((0.2*(tau)**2)+0.8)<=upper2[g,3] else 0)\n",
    "    ECR24[b,g]=(1 if lower2[g,4]<=aintrue24[g]*((0.2*np.exp(tau))+0.8) and aintrue24[g]*((0.2*np.exp(tau))+0.8)<=upper2[g,4] else 0)\n",
    "    ECR25[b,g]=(1 if lower2[g,5]<=aintrue25[g]*(norm.ppf(tau,0,1)) and aintrue25[g]*(norm.ppf(tau,0,1))<=upper2[g,5] else 0)\n",
    "    ECR26[b,g]=(1 if lower2[g,6]<=aintrue26[g]*(norm.ppf(tau,0,1)) and aintrue26[g]*(norm.ppf(tau,0,1))<=upper2[g,6] else 0)\n",
    "    ECR27[b,g]=(1 if lower2[g,7]<=aintrue27[g]*(norm.ppf(tau,0,1)) and aintrue27[g]*(norm.ppf(tau,0,1))<=upper2[g,7] else 0)\n",
    "    ECR28[b,g]=(1 if lower2[g,8]<=aintrue28[g]*(norm.ppf(tau,0,1)) and aintrue28[g]*(norm.ppf(tau,0,1))<=upper2[g,8] else 0)\n",
    "    \n",
    "    ECR30[b,g]=(1 if lower3[g,0]<=aintrue30[g]*(norm.ppf(tau,0,1)) and aintrue30[g]*(norm.ppf(tau,0,1))<=upper3[g,0] else 0)\n",
    "    ECR31[b,g]=(1 if lower3[g,1]<=aintrue31[g]*((0.2*(tau)**2)+0.8) and aintrue31[g]*((0.2*(tau)**2)+0.8)<=upper3[g,1] else 0)\n",
    "    ECR32[b,g]=(1 if lower3[g,2]<=aintrue32[g]*((0.2*np.exp(tau))+0.8) and aintrue32[g]*((0.2*np.exp(tau))+0.8)<=upper3[g,2] else 0)\n",
    "    ECR33[b,g]=(1 if lower3[g,3]<=aintrue33[g]*((0.2*(tau)**2)+0.8) and aintrue33[g]*((0.2*(tau)**2)+0.8)<=upper3[g,3] else 0)\n",
    "    ECR34[b,g]=(1 if lower3[g,4]<=aintrue34[g]*((0.2*np.exp(tau))+0.8) and aintrue34[g]*((0.2*np.exp(tau))+0.8)<=upper3[g,4] else 0)\n",
    "    ECR35[b,g]=(1 if lower3[g,5]<=aintrue35[g]*(norm.ppf(tau,0,1)) and aintrue35[g]*(norm.ppf(tau,0,1))<=upper3[g,5] else 0)\n",
    "    ECR36[b,g]=(1 if lower3[g,6]<=aintrue36[g]*(norm.ppf(tau,0,1)) and aintrue36[g]*(norm.ppf(tau,0,1))<=upper3[g,6] else 0)\n",
    "    ECR37[b,g]=(1 if lower3[g,7]<=aintrue37[g]*(norm.ppf(tau,0,1)) and aintrue37[g]*(norm.ppf(tau,0,1))<=upper3[g,7] else 0)\n",
    "    ECR38[b,g]=(1 if lower3[g,8]<=aintrue38[g]*(norm.ppf(tau,0,1)) and aintrue38[g]*(norm.ppf(tau,0,1))<=upper3[g,8] else 0)\n",
    "    \n",
    "    ECR40[b,g]=(1 if lower4[g,0]<=aintrue40[g]*(norm.ppf(tau,0,1)) and aintrue40[g]*(norm.ppf(tau,0,1))<=upper4[g,0] else 0)\n",
    "    ECR41[b,g]=(1 if lower4[g,1]<=aintrue41[g]*((0.2*(tau)**2)+0.8) and aintrue41[g]*((0.2*(tau)**2)+0.8)<=upper4[g,1] else 0)\n",
    "    ECR42[b,g]=(1 if lower4[g,2]<=aintrue42[g]*((0.2*np.exp(tau))+0.8) and aintrue42[g]*((0.2*np.exp(tau))+0.8)<=upper4[g,2] else 0)\n",
    "    ECR43[b,g]=(1 if lower4[g,3]<=aintrue43[g]*((0.2*(tau)**2)+0.8) and aintrue43[g]*((0.2*(tau)**2)+0.8)<=upper4[g,3] else 0)\n",
    "    ECR44[b,g]=(1 if lower4[g,4]<=aintrue44[g]*((0.2*np.exp(tau))+0.8) and aintrue44[g]*((0.2*np.exp(tau))+0.8)<=upper4[g,4] else 0)\n",
    "    ECR45[b,g]=(1 if lower4[g,5]<=aintrue45[g]*(norm.ppf(tau,0,1)) and aintrue45[g]*(norm.ppf(tau,0,1))<=upper4[g,5] else 0)\n",
    "    ECR46[b,g]=(1 if lower4[g,6]<=aintrue46[g]*(norm.ppf(tau,0,1)) and aintrue46[g]*(norm.ppf(tau,0,1))<=upper4[g,6] else 0)\n",
    "    ECR47[b,g]=(1 if lower4[g,7]<=aintrue47[g]*(norm.ppf(tau,0,1)) and aintrue47[g]*(norm.ppf(tau,0,1))<=upper4[g,7] else 0)\n",
    "    ECR48[b,g]=(1 if lower4[g,8]<=aintrue48[g]*(norm.ppf(tau,0,1)) and aintrue48[g]*(norm.ppf(tau,0,1))<=upper4[g,8] else 0)\n",
    "    \n",
    " print(b)\n",
    "     "
   ]
  },
  {
   "cell_type": "code",
   "execution_count": 3,
   "id": "3e128d6e-b8c9-4e43-8898-a0c803b33cbf",
   "metadata": {},
   "outputs": [],
   "source": [
    "TECR10=ECR10.sum(axis=0)/(B)\n",
    "TECR11=ECR11.sum(axis=0)/(B)\n",
    "TECR12=ECR12.sum(axis=0)/(B)\n",
    "TECR13=ECR13.sum(axis=0)/(B)\n",
    "TECR14=ECR14.sum(axis=0)/(B)\n",
    "TECR15=ECR15.sum(axis=0)/(B)\n",
    "TECR16=ECR16.sum(axis=0)/(B)\n",
    "TECR17=ECR17.sum(axis=0)/(B)\n",
    "TECR18=ECR18.sum(axis=0)/(B)\n",
    "\n",
    "TECR20=ECR20.sum(axis=0)/(B)\n",
    "TECR21=ECR21.sum(axis=0)/(B)\n",
    "TECR22=ECR22.sum(axis=0)/(B)\n",
    "TECR23=ECR23.sum(axis=0)/(B)\n",
    "TECR24=ECR24.sum(axis=0)/(B)\n",
    "TECR25=ECR25.sum(axis=0)/(B)\n",
    "TECR26=ECR26.sum(axis=0)/(B)\n",
    "TECR27=ECR27.sum(axis=0)/(B)\n",
    "TECR28=ECR28.sum(axis=0)/(B)\n",
    "\n",
    "TECR30=ECR30.sum(axis=0)/(B)\n",
    "TECR31=ECR31.sum(axis=0)/(B)\n",
    "TECR32=ECR32.sum(axis=0)/(B)\n",
    "TECR33=ECR33.sum(axis=0)/(B)\n",
    "TECR34=ECR34.sum(axis=0)/(B)\n",
    "TECR35=ECR35.sum(axis=0)/(B)\n",
    "TECR36=ECR36.sum(axis=0)/(B)\n",
    "TECR37=ECR37.sum(axis=0)/(B)\n",
    "TECR38=ECR38.sum(axis=0)/(B)\n",
    "\n",
    "TECR40=ECR40.sum(axis=0)/(B)\n",
    "TECR41=ECR41.sum(axis=0)/(B)\n",
    "TECR42=ECR42.sum(axis=0)/(B)\n",
    "TECR43=ECR43.sum(axis=0)/(B)\n",
    "TECR44=ECR44.sum(axis=0)/(B)\n",
    "TECR45=ECR45.sum(axis=0)/(B)\n",
    "TECR46=ECR46.sum(axis=0)/(B)\n",
    "TECR47=ECR47.sum(axis=0)/(B)\n",
    "TECR48=ECR48.sum(axis=0)/(B)"
   ]
  },
  {
   "cell_type": "code",
   "execution_count": 4,
   "id": "3eaa4921-80d0-4887-bcae-9a1fb6bbe0f3",
   "metadata": {},
   "outputs": [
    {
     "data": {
      "text/plain": [
       "0.7495833333333333"
      ]
     },
     "execution_count": 4,
     "metadata": {},
     "output_type": "execute_result"
    }
   ],
   "source": [
    "#v1\n",
    "np.sum(TECR10)/36"
   ]
  },
  {
   "cell_type": "code",
   "execution_count": 5,
   "id": "8a629798-e7d8-4df6-823b-93203fcb43b4",
   "metadata": {},
   "outputs": [
    {
     "data": {
      "text/plain": [
       "0.9137500000000001"
      ]
     },
     "execution_count": 5,
     "metadata": {},
     "output_type": "execute_result"
    }
   ],
   "source": [
    "np.sum(TECR11)/36"
   ]
  },
  {
   "cell_type": "code",
   "execution_count": 6,
   "id": "92b36464-3734-4fdc-94db-2a5b38e5dbcc",
   "metadata": {},
   "outputs": [
    {
     "data": {
      "text/plain": [
       "0.942361111111111"
      ]
     },
     "execution_count": 6,
     "metadata": {},
     "output_type": "execute_result"
    }
   ],
   "source": [
    "np.sum(TECR12)/36"
   ]
  },
  {
   "cell_type": "code",
   "execution_count": 7,
   "id": "39f2683b-0f58-4539-8ab1-1979ec079da4",
   "metadata": {},
   "outputs": [
    {
     "data": {
      "text/plain": [
       "0.9483333333333334"
      ]
     },
     "execution_count": 7,
     "metadata": {},
     "output_type": "execute_result"
    }
   ],
   "source": [
    "np.sum(TECR13)/36"
   ]
  },
  {
   "cell_type": "code",
   "execution_count": 8,
   "id": "2c19e878-0cc5-4be2-aa58-d90000d36d0e",
   "metadata": {},
   "outputs": [
    {
     "data": {
      "text/plain": [
       "0.9299999999999999"
      ]
     },
     "execution_count": 8,
     "metadata": {},
     "output_type": "execute_result"
    }
   ],
   "source": [
    "np.sum(TECR14)/36"
   ]
  },
  {
   "cell_type": "code",
   "execution_count": null,
   "id": "1f4b5f7e-05b5-471e-98ac-8185d8c89141",
   "metadata": {},
   "outputs": [],
   "source": [
    "np.sum(TECR15)/36"
   ]
  },
  {
   "cell_type": "code",
   "execution_count": null,
   "id": "afaf137b-c267-4ced-9f02-9d813438c9ce",
   "metadata": {},
   "outputs": [],
   "source": [
    "np.sum(TECR16)/36"
   ]
  },
  {
   "cell_type": "code",
   "execution_count": null,
   "id": "0ba7d00c-87cb-4fb5-b79c-1ce132058219",
   "metadata": {},
   "outputs": [],
   "source": [
    "np.sum(TECR17)/36"
   ]
  },
  {
   "cell_type": "code",
   "execution_count": null,
   "id": "631d8d7d-4d5f-4fea-97c0-28ac538b0209",
   "metadata": {},
   "outputs": [],
   "source": [
    "np.sum(TECR18)/36"
   ]
  },
  {
   "cell_type": "code",
   "execution_count": 13,
   "id": "246269b6-130b-4b4e-b18f-73ed8c1913e5",
   "metadata": {},
   "outputs": [
    {
     "data": {
      "text/plain": [
       "0.8416666666666667"
      ]
     },
     "execution_count": 13,
     "metadata": {},
     "output_type": "execute_result"
    }
   ],
   "source": [
    "#v2\n",
    "np.sum(TECR20)/36"
   ]
  },
  {
   "cell_type": "code",
   "execution_count": 14,
   "id": "a7dc7ebe-0664-4172-8372-9e4b8be71979",
   "metadata": {},
   "outputs": [
    {
     "data": {
      "text/plain": [
       "0.9218055555555557"
      ]
     },
     "execution_count": 14,
     "metadata": {},
     "output_type": "execute_result"
    }
   ],
   "source": [
    "np.sum(TECR21)/36"
   ]
  },
  {
   "cell_type": "code",
   "execution_count": 15,
   "id": "caba9d94-8ea2-4968-a072-60528f99bccd",
   "metadata": {},
   "outputs": [
    {
     "data": {
      "text/plain": [
       "0.9441666666666667"
      ]
     },
     "execution_count": 15,
     "metadata": {},
     "output_type": "execute_result"
    }
   ],
   "source": [
    "np.sum(TECR22)/36"
   ]
  },
  {
   "cell_type": "code",
   "execution_count": 16,
   "id": "7f1a1582-ec69-48d1-b307-0aee081378a6",
   "metadata": {},
   "outputs": [
    {
     "data": {
      "text/plain": [
       "0.953888888888889"
      ]
     },
     "execution_count": 16,
     "metadata": {},
     "output_type": "execute_result"
    }
   ],
   "source": [
    "np.sum(TECR23)/36"
   ]
  },
  {
   "cell_type": "code",
   "execution_count": 17,
   "id": "dfdf8daf-a2f8-4783-a4c8-427cc50d52bf",
   "metadata": {},
   "outputs": [
    {
     "data": {
      "text/plain": [
       "0.9409722222222222"
      ]
     },
     "execution_count": 17,
     "metadata": {},
     "output_type": "execute_result"
    }
   ],
   "source": [
    "np.sum(TECR24)/36"
   ]
  },
  {
   "cell_type": "code",
   "execution_count": null,
   "id": "b45eb0f7-a2c6-4434-aecc-9c1a7e7bebf3",
   "metadata": {},
   "outputs": [],
   "source": [
    "np.sum(TECR25)/36"
   ]
  },
  {
   "cell_type": "code",
   "execution_count": null,
   "id": "76997933-882e-4226-8430-e0e7762ec94a",
   "metadata": {},
   "outputs": [],
   "source": [
    "np.sum(TECR26)/36"
   ]
  },
  {
   "cell_type": "code",
   "execution_count": null,
   "id": "5318b80e-d7f0-4497-b2fd-611f69929e28",
   "metadata": {},
   "outputs": [],
   "source": [
    "np.sum(TECR27)/36"
   ]
  },
  {
   "cell_type": "code",
   "execution_count": null,
   "id": "2d98b7a4-58d4-43fd-a1ad-3bd73d6e8780",
   "metadata": {},
   "outputs": [],
   "source": [
    "np.sum(TECR28)/36"
   ]
  },
  {
   "cell_type": "code",
   "execution_count": null,
   "id": "361b80b1-dd99-4f25-bbb8-163edbc794b9",
   "metadata": {},
   "outputs": [],
   "source": [
    "#v3\n",
    "np.sum(TECR30)/36"
   ]
  },
  {
   "cell_type": "code",
   "execution_count": null,
   "id": "686ce21d-b8c6-48c8-aa83-16c3425c94c8",
   "metadata": {},
   "outputs": [],
   "source": [
    "np.sum(TECR31)/36"
   ]
  },
  {
   "cell_type": "code",
   "execution_count": null,
   "id": "4625843d-c141-4ac2-8451-734c060d2d89",
   "metadata": {},
   "outputs": [],
   "source": [
    "np.sum(TECR32)/36"
   ]
  },
  {
   "cell_type": "code",
   "execution_count": null,
   "id": "bfdb5997-8229-4519-ad3b-c5b880faa27e",
   "metadata": {},
   "outputs": [],
   "source": [
    "np.sum(TECR33)/36"
   ]
  },
  {
   "cell_type": "code",
   "execution_count": null,
   "id": "6c2e4d8e-ef62-42fe-be4b-426aff27a98b",
   "metadata": {},
   "outputs": [],
   "source": [
    "np.sum(TECR34)/36"
   ]
  },
  {
   "cell_type": "code",
   "execution_count": null,
   "id": "ce5aea84-b86b-4cd9-9cca-df2b2111f825",
   "metadata": {},
   "outputs": [],
   "source": [
    "np.sum(TECR35)/36"
   ]
  },
  {
   "cell_type": "code",
   "execution_count": null,
   "id": "a95be1fc-2280-4d57-a746-6c4f5d0f45e4",
   "metadata": {},
   "outputs": [],
   "source": [
    "np.sum(TECR36)/36"
   ]
  },
  {
   "cell_type": "code",
   "execution_count": null,
   "id": "d77e6cfd-8716-4b07-a9e1-a044360bba97",
   "metadata": {},
   "outputs": [],
   "source": [
    "np.sum(TECR37)/36"
   ]
  },
  {
   "cell_type": "code",
   "execution_count": null,
   "id": "2db9f764-36f8-4429-b989-1fceffeb0624",
   "metadata": {},
   "outputs": [],
   "source": [
    "np.sum(TECR38)/36"
   ]
  },
  {
   "cell_type": "code",
   "execution_count": null,
   "id": "2c5b4ea9-29c4-4aa1-9569-9724f9acdfb6",
   "metadata": {},
   "outputs": [],
   "source": [
    "#v4\n",
    "np.sum(TECR40)/36"
   ]
  },
  {
   "cell_type": "code",
   "execution_count": null,
   "id": "a53111dd-a3a7-4dae-84ff-0eb8a643c5ca",
   "metadata": {},
   "outputs": [],
   "source": [
    "np.sum(TECR41)/36"
   ]
  },
  {
   "cell_type": "code",
   "execution_count": null,
   "id": "dd563740-3e7e-4c29-891c-193ff1c4e76d",
   "metadata": {},
   "outputs": [],
   "source": [
    "np.sum(TECR42)/36"
   ]
  },
  {
   "cell_type": "code",
   "execution_count": null,
   "id": "aa3f654f-4cb3-4c0e-9308-bec2a8097112",
   "metadata": {},
   "outputs": [],
   "source": [
    "np.sum(TECR43)/36"
   ]
  },
  {
   "cell_type": "code",
   "execution_count": null,
   "id": "35bd159c-3845-435d-b4e6-9ebe8e7436f4",
   "metadata": {},
   "outputs": [],
   "source": [
    "np.sum(TECR44)/36"
   ]
  },
  {
   "cell_type": "code",
   "execution_count": null,
   "id": "f6953a22-b976-4e60-ba2c-34a4c83e3bc7",
   "metadata": {},
   "outputs": [],
   "source": [
    "np.sum(TECR45)/36"
   ]
  },
  {
   "cell_type": "code",
   "execution_count": null,
   "id": "3f0d2628-75fa-412d-89ca-7157bfca73aa",
   "metadata": {},
   "outputs": [],
   "source": [
    "np.sum(TECR46)/36"
   ]
  },
  {
   "cell_type": "code",
   "execution_count": null,
   "id": "23f83c95-6a4c-45a3-98e9-1d9d11484b2a",
   "metadata": {},
   "outputs": [],
   "source": [
    "np.sum(TECR47)/36"
   ]
  },
  {
   "cell_type": "code",
   "execution_count": null,
   "id": "026d8904-14f9-4e23-a371-e9d42496ecc2",
   "metadata": {},
   "outputs": [],
   "source": [
    "np.sum(TECR48)/36"
   ]
  },
  {
   "cell_type": "code",
   "execution_count": null,
   "id": "696f8b6f-7cae-4e98-aa60-a581353d0971",
   "metadata": {},
   "outputs": [],
   "source": []
  },
  {
   "cell_type": "code",
   "execution_count": null,
   "id": "913598d6-430f-4e30-8fe8-b9e1470adae2",
   "metadata": {},
   "outputs": [],
   "source": []
  },
  {
   "cell_type": "code",
   "execution_count": null,
   "id": "533c7af3-1d19-4451-8a44-89875ba61fbd",
   "metadata": {},
   "outputs": [],
   "source": []
  },
  {
   "cell_type": "code",
   "execution_count": null,
   "id": "2c0da7e7-914a-4a70-a5fa-d489de551419",
   "metadata": {},
   "outputs": [],
   "source": []
  },
  {
   "cell_type": "code",
   "execution_count": null,
   "id": "d41370c5-323c-407a-ab1d-9ab17413a143",
   "metadata": {},
   "outputs": [],
   "source": []
  },
  {
   "cell_type": "code",
   "execution_count": 40,
   "id": "203da6b4-657f-4cce-8485-bc11a4e12c4f",
   "metadata": {},
   "outputs": [
    {
     "data": {
      "text/plain": [
       "0.10364667031942891"
      ]
     },
     "execution_count": 40,
     "metadata": {},
     "output_type": "execute_result"
    }
   ],
   "source": [
    "np.mean(np.absolute((ainfinal1[:,1])-(aintrue11*((0.2*(tau)**2)+0.8))))"
   ]
  },
  {
   "cell_type": "code",
   "execution_count": 41,
   "id": "dd9e5894-c559-461b-9ef8-dca329d19235",
   "metadata": {},
   "outputs": [
    {
     "data": {
      "text/plain": [
       "0.043821941331300754"
      ]
     },
     "execution_count": 41,
     "metadata": {},
     "output_type": "execute_result"
    }
   ],
   "source": [
    "np.mean(np.absolute((ainfinal1[:,2])-(aintrue12*((0.2*np.exp(tau))+0.8))))"
   ]
  },
  {
   "cell_type": "code",
   "execution_count": 42,
   "id": "9e66f3a8-2c1f-4921-b0e0-ca6cda49d8f2",
   "metadata": {},
   "outputs": [
    {
     "data": {
      "text/plain": [
       "0.08225369417640711"
      ]
     },
     "execution_count": 42,
     "metadata": {},
     "output_type": "execute_result"
    }
   ],
   "source": [
    "np.mean(np.absolute((ainfinal1[:,3])-(aintrue13*((0.2*(tau)**2)+0.8))))"
   ]
  },
  {
   "cell_type": "code",
   "execution_count": 43,
   "id": "86a5efaa-36b4-4063-b877-3d956c63017f",
   "metadata": {},
   "outputs": [
    {
     "data": {
      "text/plain": [
       "0.07683366184441305"
      ]
     },
     "execution_count": 43,
     "metadata": {},
     "output_type": "execute_result"
    }
   ],
   "source": [
    "np.mean(np.absolute((ainfinal1[:,4])-(aintrue14*((0.2*np.exp(tau))+0.8))))"
   ]
  },
  {
   "cell_type": "code",
   "execution_count": 44,
   "id": "b1762b28-dcf1-4656-8167-cd6357ddd83f",
   "metadata": {},
   "outputs": [
    {
     "data": {
      "text/plain": [
       "0.10858168834610017"
      ]
     },
     "execution_count": 44,
     "metadata": {},
     "output_type": "execute_result"
    }
   ],
   "source": [
    "np.mean(np.absolute((ainfinal2[:,1])-(aintrue21*((0.2*(tau)**2)+0.8))))"
   ]
  },
  {
   "cell_type": "code",
   "execution_count": 45,
   "id": "b6827a08-80f9-4847-802d-f00af12b5f8e",
   "metadata": {},
   "outputs": [
    {
     "data": {
      "text/plain": [
       "0.07780817109218668"
      ]
     },
     "execution_count": 45,
     "metadata": {},
     "output_type": "execute_result"
    }
   ],
   "source": [
    "np.mean(np.absolute((ainfinal2[:,2])-(aintrue22*((0.2*np.exp(tau))+0.8))))"
   ]
  },
  {
   "cell_type": "code",
   "execution_count": 46,
   "id": "ca10eb86-959c-4ea3-8cbc-eedaa4c9b859",
   "metadata": {},
   "outputs": [
    {
     "data": {
      "text/plain": [
       "0.10163986539042211"
      ]
     },
     "execution_count": 46,
     "metadata": {},
     "output_type": "execute_result"
    }
   ],
   "source": [
    "np.mean(np.absolute((ainfinal2[:,3])-(aintrue23*((0.2*(tau)**2)+0.8))))"
   ]
  },
  {
   "cell_type": "code",
   "execution_count": 47,
   "id": "02f9554a-59b9-456a-b2d2-5ee45981dbfc",
   "metadata": {},
   "outputs": [
    {
     "data": {
      "text/plain": [
       "0.04323756562329981"
      ]
     },
     "execution_count": 47,
     "metadata": {},
     "output_type": "execute_result"
    }
   ],
   "source": [
    "np.mean(np.absolute((ainfinal2[:,4])-(aintrue24*((0.2*np.exp(tau))+0.8))))"
   ]
  },
  {
   "cell_type": "code",
   "execution_count": 48,
   "id": "540575f2-d0c3-4a30-9390-dfd0a8dede0a",
   "metadata": {},
   "outputs": [
    {
     "data": {
      "text/plain": [
       "0.15800451026868717"
      ]
     },
     "execution_count": 48,
     "metadata": {},
     "output_type": "execute_result"
    }
   ],
   "source": [
    "np.mean(np.absolute((ainfinal3[:,1])-(aintrue31*((0.2*(tau)**2)+0.8))))"
   ]
  },
  {
   "cell_type": "code",
   "execution_count": 49,
   "id": "7b60d4c1-947c-42bd-abd5-4acbe963feac",
   "metadata": {},
   "outputs": [
    {
     "data": {
      "text/plain": [
       "0.13576492764424838"
      ]
     },
     "execution_count": 49,
     "metadata": {},
     "output_type": "execute_result"
    }
   ],
   "source": [
    "np.mean(np.absolute((ainfinal3[:,2])-(aintrue32*((0.2*np.exp(tau))+0.8))))"
   ]
  },
  {
   "cell_type": "code",
   "execution_count": 50,
   "id": "cdda3429-981c-4eb0-b90f-451ae8a4ac82",
   "metadata": {},
   "outputs": [
    {
     "data": {
      "text/plain": [
       "0.18097502619123543"
      ]
     },
     "execution_count": 50,
     "metadata": {},
     "output_type": "execute_result"
    }
   ],
   "source": [
    "np.mean(np.absolute((ainfinal3[:,3])-(aintrue33*((0.2*(tau)**2)+0.8))))"
   ]
  },
  {
   "cell_type": "code",
   "execution_count": 51,
   "id": "346f0429-6496-47f9-902b-488c0737a150",
   "metadata": {},
   "outputs": [
    {
     "data": {
      "text/plain": [
       "0.11429711218109251"
      ]
     },
     "execution_count": 51,
     "metadata": {},
     "output_type": "execute_result"
    }
   ],
   "source": [
    "np.mean(np.absolute((ainfinal3[:,4])-(aintrue34*((0.2*np.exp(tau))+0.8))))"
   ]
  },
  {
   "cell_type": "code",
   "execution_count": 52,
   "id": "9f3d339b-7305-4e75-a67a-dbe238708683",
   "metadata": {},
   "outputs": [
    {
     "data": {
      "text/plain": [
       "0.09289330428016052"
      ]
     },
     "execution_count": 52,
     "metadata": {},
     "output_type": "execute_result"
    }
   ],
   "source": [
    "np.mean(np.absolute((ainfinal4[:,1])-(aintrue41*((0.2*(tau)**2)+0.8))))"
   ]
  },
  {
   "cell_type": "code",
   "execution_count": 53,
   "id": "f33b5850-5c15-4a38-ae7b-6b7e8f594e4b",
   "metadata": {},
   "outputs": [
    {
     "data": {
      "text/plain": [
       "0.14075788357630284"
      ]
     },
     "execution_count": 53,
     "metadata": {},
     "output_type": "execute_result"
    }
   ],
   "source": [
    "np.mean(np.absolute((ainfinal4[:,2])-(aintrue42*((0.2*np.exp(tau))+0.8))))"
   ]
  },
  {
   "cell_type": "code",
   "execution_count": 54,
   "id": "500e0b5c-544c-4ac8-b6c6-5c40550bc791",
   "metadata": {},
   "outputs": [
    {
     "data": {
      "text/plain": [
       "0.18851769594090784"
      ]
     },
     "execution_count": 54,
     "metadata": {},
     "output_type": "execute_result"
    }
   ],
   "source": [
    "np.mean(np.absolute((ainfinal4[:,3])-(aintrue43*((0.2*(tau)**2)+0.8))))"
   ]
  },
  {
   "cell_type": "code",
   "execution_count": 55,
   "id": "f693ffc1-0d86-4641-8c59-0796ad609130",
   "metadata": {},
   "outputs": [
    {
     "data": {
      "text/plain": [
       "0.058569619395073436"
      ]
     },
     "execution_count": 55,
     "metadata": {},
     "output_type": "execute_result"
    }
   ],
   "source": [
    "np.mean(np.absolute((ainfinal4[:,4])-(aintrue44*((0.2*np.exp(tau))+0.8))))"
   ]
  },
  {
   "cell_type": "code",
   "execution_count": 56,
   "id": "7d922509-e8bb-4188-9d98-b25fd67b5869",
   "metadata": {},
   "outputs": [],
   "source": [
    "c=np.arange(20).reshape(5,4)"
   ]
  },
  {
   "cell_type": "code",
   "execution_count": 57,
   "id": "e2c3f601-6c04-46b0-8a03-b12143023ccc",
   "metadata": {},
   "outputs": [
    {
     "data": {
      "text/plain": [
       "array([[ 0,  1,  2,  3],\n",
       "       [ 4,  5,  6,  7],\n",
       "       [ 8,  9, 10, 11],\n",
       "       [12, 13, 14, 15],\n",
       "       [16, 17, 18, 19]])"
      ]
     },
     "execution_count": 57,
     "metadata": {},
     "output_type": "execute_result"
    }
   ],
   "source": [
    "c"
   ]
  },
  {
   "cell_type": "code",
   "execution_count": 58,
   "id": "8807d411-27fc-44b3-a7fd-a57d08fa5cbc",
   "metadata": {},
   "outputs": [
    {
     "data": {
      "text/plain": [
       "0.002221740818068217"
      ]
     },
     "execution_count": 58,
     "metadata": {},
     "output_type": "execute_result"
    }
   ],
   "source": [
    "np.median(Y1)"
   ]
  },
  {
   "cell_type": "code",
   "execution_count": 59,
   "id": "70384c95-a4e0-4f7b-ad58-83b0d131243e",
   "metadata": {},
   "outputs": [
    {
     "data": {
      "text/plain": [
       "array([[ 2,  3],\n",
       "       [ 6,  7],\n",
       "       [10, 11],\n",
       "       [14, 15],\n",
       "       [18, 19]])"
      ]
     },
     "execution_count": 59,
     "metadata": {},
     "output_type": "execute_result"
    }
   ],
   "source": [
    "c[:,2:4]"
   ]
  },
  {
   "cell_type": "code",
   "execution_count": 60,
   "id": "af75d55f-2208-435d-aa47-270ef69d7125",
   "metadata": {},
   "outputs": [
    {
     "data": {
      "text/plain": [
       "3797"
      ]
     },
     "execution_count": 60,
     "metadata": {},
     "output_type": "execute_result"
    }
   ],
   "source": [
    "np.size(sigmatile1,0)"
   ]
  },
  {
   "cell_type": "code",
   "execution_count": 61,
   "id": "8b3cde94-fdea-4b99-aee5-3c50bf97a4dc",
   "metadata": {},
   "outputs": [
    {
     "ename": "ValueError",
     "evalue": "x and y must be the same size",
     "output_type": "error",
     "traceback": [
      "\u001b[1;31m---------------------------------------------------------------------------\u001b[0m",
      "\u001b[1;31mValueError\u001b[0m                                Traceback (most recent call last)",
      "Cell \u001b[1;32mIn[61], line 1\u001b[0m\n\u001b[1;32m----> 1\u001b[0m plt\u001b[38;5;241m.\u001b[39mscatter(\u001b[38;5;28mrange\u001b[39m(\u001b[38;5;241m1\u001b[39m,\u001b[38;5;241m3988\u001b[39m),sigmatile1,s\u001b[38;5;241m=\u001b[39m\u001b[38;5;241m2\u001b[39m)\n",
      "File \u001b[1;32mC:\\ProgramData\\anaconda3\\Lib\\site-packages\\matplotlib\\pyplot.py:3699\u001b[0m, in \u001b[0;36mscatter\u001b[1;34m(x, y, s, c, marker, cmap, norm, vmin, vmax, alpha, linewidths, edgecolors, plotnonfinite, data, **kwargs)\u001b[0m\n\u001b[0;32m   3680\u001b[0m \u001b[38;5;129m@_copy_docstring_and_deprecators\u001b[39m(Axes\u001b[38;5;241m.\u001b[39mscatter)\n\u001b[0;32m   3681\u001b[0m \u001b[38;5;28;01mdef\u001b[39;00m \u001b[38;5;21mscatter\u001b[39m(\n\u001b[0;32m   3682\u001b[0m     x: \u001b[38;5;28mfloat\u001b[39m \u001b[38;5;241m|\u001b[39m ArrayLike,\n\u001b[1;32m   (...)\u001b[0m\n\u001b[0;32m   3697\u001b[0m     \u001b[38;5;241m*\u001b[39m\u001b[38;5;241m*\u001b[39mkwargs,\n\u001b[0;32m   3698\u001b[0m ) \u001b[38;5;241m-\u001b[39m\u001b[38;5;241m>\u001b[39m PathCollection:\n\u001b[1;32m-> 3699\u001b[0m     __ret \u001b[38;5;241m=\u001b[39m gca()\u001b[38;5;241m.\u001b[39mscatter(\n\u001b[0;32m   3700\u001b[0m         x,\n\u001b[0;32m   3701\u001b[0m         y,\n\u001b[0;32m   3702\u001b[0m         s\u001b[38;5;241m=\u001b[39ms,\n\u001b[0;32m   3703\u001b[0m         c\u001b[38;5;241m=\u001b[39mc,\n\u001b[0;32m   3704\u001b[0m         marker\u001b[38;5;241m=\u001b[39mmarker,\n\u001b[0;32m   3705\u001b[0m         cmap\u001b[38;5;241m=\u001b[39mcmap,\n\u001b[0;32m   3706\u001b[0m         norm\u001b[38;5;241m=\u001b[39mnorm,\n\u001b[0;32m   3707\u001b[0m         vmin\u001b[38;5;241m=\u001b[39mvmin,\n\u001b[0;32m   3708\u001b[0m         vmax\u001b[38;5;241m=\u001b[39mvmax,\n\u001b[0;32m   3709\u001b[0m         alpha\u001b[38;5;241m=\u001b[39malpha,\n\u001b[0;32m   3710\u001b[0m         linewidths\u001b[38;5;241m=\u001b[39mlinewidths,\n\u001b[0;32m   3711\u001b[0m         edgecolors\u001b[38;5;241m=\u001b[39medgecolors,\n\u001b[0;32m   3712\u001b[0m         plotnonfinite\u001b[38;5;241m=\u001b[39mplotnonfinite,\n\u001b[0;32m   3713\u001b[0m         \u001b[38;5;241m*\u001b[39m\u001b[38;5;241m*\u001b[39m({\u001b[38;5;124m\"\u001b[39m\u001b[38;5;124mdata\u001b[39m\u001b[38;5;124m\"\u001b[39m: data} \u001b[38;5;28;01mif\u001b[39;00m data \u001b[38;5;129;01mis\u001b[39;00m \u001b[38;5;129;01mnot\u001b[39;00m \u001b[38;5;28;01mNone\u001b[39;00m \u001b[38;5;28;01melse\u001b[39;00m {}),\n\u001b[0;32m   3714\u001b[0m         \u001b[38;5;241m*\u001b[39m\u001b[38;5;241m*\u001b[39mkwargs,\n\u001b[0;32m   3715\u001b[0m     )\n\u001b[0;32m   3716\u001b[0m     sci(__ret)\n\u001b[0;32m   3717\u001b[0m     \u001b[38;5;28;01mreturn\u001b[39;00m __ret\n",
      "File \u001b[1;32mC:\\ProgramData\\anaconda3\\Lib\\site-packages\\matplotlib\\__init__.py:1465\u001b[0m, in \u001b[0;36m_preprocess_data.<locals>.inner\u001b[1;34m(ax, data, *args, **kwargs)\u001b[0m\n\u001b[0;32m   1462\u001b[0m \u001b[38;5;129m@functools\u001b[39m\u001b[38;5;241m.\u001b[39mwraps(func)\n\u001b[0;32m   1463\u001b[0m \u001b[38;5;28;01mdef\u001b[39;00m \u001b[38;5;21minner\u001b[39m(ax, \u001b[38;5;241m*\u001b[39margs, data\u001b[38;5;241m=\u001b[39m\u001b[38;5;28;01mNone\u001b[39;00m, \u001b[38;5;241m*\u001b[39m\u001b[38;5;241m*\u001b[39mkwargs):\n\u001b[0;32m   1464\u001b[0m     \u001b[38;5;28;01mif\u001b[39;00m data \u001b[38;5;129;01mis\u001b[39;00m \u001b[38;5;28;01mNone\u001b[39;00m:\n\u001b[1;32m-> 1465\u001b[0m         \u001b[38;5;28;01mreturn\u001b[39;00m func(ax, \u001b[38;5;241m*\u001b[39m\u001b[38;5;28mmap\u001b[39m(sanitize_sequence, args), \u001b[38;5;241m*\u001b[39m\u001b[38;5;241m*\u001b[39mkwargs)\n\u001b[0;32m   1467\u001b[0m     bound \u001b[38;5;241m=\u001b[39m new_sig\u001b[38;5;241m.\u001b[39mbind(ax, \u001b[38;5;241m*\u001b[39margs, \u001b[38;5;241m*\u001b[39m\u001b[38;5;241m*\u001b[39mkwargs)\n\u001b[0;32m   1468\u001b[0m     auto_label \u001b[38;5;241m=\u001b[39m (bound\u001b[38;5;241m.\u001b[39marguments\u001b[38;5;241m.\u001b[39mget(label_namer)\n\u001b[0;32m   1469\u001b[0m                   \u001b[38;5;129;01mor\u001b[39;00m bound\u001b[38;5;241m.\u001b[39mkwargs\u001b[38;5;241m.\u001b[39mget(label_namer))\n",
      "File \u001b[1;32mC:\\ProgramData\\anaconda3\\Lib\\site-packages\\matplotlib\\axes\\_axes.py:4655\u001b[0m, in \u001b[0;36mAxes.scatter\u001b[1;34m(self, x, y, s, c, marker, cmap, norm, vmin, vmax, alpha, linewidths, edgecolors, plotnonfinite, **kwargs)\u001b[0m\n\u001b[0;32m   4653\u001b[0m y \u001b[38;5;241m=\u001b[39m np\u001b[38;5;241m.\u001b[39mma\u001b[38;5;241m.\u001b[39mravel(y)\n\u001b[0;32m   4654\u001b[0m \u001b[38;5;28;01mif\u001b[39;00m x\u001b[38;5;241m.\u001b[39msize \u001b[38;5;241m!=\u001b[39m y\u001b[38;5;241m.\u001b[39msize:\n\u001b[1;32m-> 4655\u001b[0m     \u001b[38;5;28;01mraise\u001b[39;00m \u001b[38;5;167;01mValueError\u001b[39;00m(\u001b[38;5;124m\"\u001b[39m\u001b[38;5;124mx and y must be the same size\u001b[39m\u001b[38;5;124m\"\u001b[39m)\n\u001b[0;32m   4657\u001b[0m \u001b[38;5;28;01mif\u001b[39;00m s \u001b[38;5;129;01mis\u001b[39;00m \u001b[38;5;28;01mNone\u001b[39;00m:\n\u001b[0;32m   4658\u001b[0m     s \u001b[38;5;241m=\u001b[39m (\u001b[38;5;241m20\u001b[39m \u001b[38;5;28;01mif\u001b[39;00m mpl\u001b[38;5;241m.\u001b[39mrcParams[\u001b[38;5;124m'\u001b[39m\u001b[38;5;124m_internal.classic_mode\u001b[39m\u001b[38;5;124m'\u001b[39m] \u001b[38;5;28;01melse\u001b[39;00m\n\u001b[0;32m   4659\u001b[0m          mpl\u001b[38;5;241m.\u001b[39mrcParams[\u001b[38;5;124m'\u001b[39m\u001b[38;5;124mlines.markersize\u001b[39m\u001b[38;5;124m'\u001b[39m] \u001b[38;5;241m*\u001b[39m\u001b[38;5;241m*\u001b[39m \u001b[38;5;241m2.0\u001b[39m)\n",
      "\u001b[1;31mValueError\u001b[0m: x and y must be the same size"
     ]
    },
    {
     "data": {
      "image/png": "[encoded data removed]",
      "text/plain": [
       "<Figure size 640x480 with 1 Axes>"
      ]
     },
     "metadata": {},
     "output_type": "display_data"
    }
   ],
   "source": [
    "plt.scatter(range(1,3988),sigmatile1,s=2)"
   ]
  },
  {
   "cell_type": "code",
   "execution_count": null,
   "id": "2f9220f6-7680-440b-9333-cf9021138e80",
   "metadata": {},
   "outputs": [],
   "source": [
    "plt.scatter(range(1,3988),(stdev1[(L+1):(n-1)]*(norm.ppf(tau,0,1))),s=2)"
   ]
  },
  {
   "cell_type": "code",
   "execution_count": null,
   "id": "bf054059-c2d9-43a1-9c5f-b782ac00983f",
   "metadata": {},
   "outputs": [],
   "source": [
    "ainfinal1"
   ]
  },
  {
   "cell_type": "code",
   "execution_count": null,
   "id": "157eb0c2-2ac2-40da-b53f-7f9b62c45554",
   "metadata": {},
   "outputs": [],
   "source": []
  }
 ],
 "metadata": {
  "kernelspec": {
   "display_name": "Python 3 (ipykernel)",
   "language": "python",
   "name": "python3"
  },
  "language_info": {
   "codemirror_mode": {
    "name": "ipython",
    "version": 3
   },
   "file_extension": ".py",
   "mimetype": "text/x-python",
   "name": "python",
   "nbconvert_exporter": "python",
   "pygments_lexer": "ipython3",
   "version": "3.12.3"
  }
 },
 "nbformat": 4,
 "nbformat_minor": 5
}
