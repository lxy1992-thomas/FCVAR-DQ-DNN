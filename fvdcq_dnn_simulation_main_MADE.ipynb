{
 "cells": [
  {
   "cell_type": "code",
   "execution_count": 1,
   "id": "9f47f59f-6677-48e1-86f6-8b725c3263f8",
   "metadata": {},
   "outputs": [],
   "source": [
    "import numpy as np\n",
    "import pandas as pd\n",
    "import matplotlib.pyplot as plt\n",
    "import statsmodels.formula.api as smf\n",
    "import torch\n",
    "import math\n",
    "import random\n",
    "from sklearn.preprocessing import StandardScaler\n",
    "from sklearn_pandas import DataFrameMapper\n",
    "import torchtuples as tt\n",
    "from torchtuples import Model\n",
    "from sklearn.model_selection import train_test_split\n",
    "from torch import nn, Tensor\n",
    "import matplotlib.pyplot as plt\n",
    "from scipy.stats import norm\n",
    "import os\n",
    "os.environ[\"R_HOME\"] = f\"{os.environ['CONDA_PREFIX']}\\\\Lib\\\\R\"\n",
    "import rpy2.robjects as robjects\n",
    "from rpy2.robjects.packages import importr\n",
    "importr('quantreg')\n",
    "\n",
    "from pytorchtools import EarlyStopping\n",
    "import torch.utils.data as Data\t# 用于创建 DataLoader\n",
    "import torch.nn as nn\n",
    "\n",
    "from torch import nn, Tensor\n",
    "from dqAux_new import dqNetSparse\n",
    "from localrqgrid import lprq0g\n",
    "from localrq import lprq0\n",
    "from ph import ph\n",
    "from bandwidthaic import bandwidthaic"
   ]
  },
  {
   "cell_type": "code",
   "execution_count": 2,
   "id": "67e24d8c-b27d-49ac-94fd-4f3fe2ab6efc",
   "metadata": {},
   "outputs": [
    {
     "name": "stderr",
     "output_type": "stream",
     "text": [
      "C:\\Users\\Administrator\\AppData\\Local\\Temp\\ipykernel_12256\\1781657080.py:222: FutureWarning: You are using `torch.load` with `weights_only=False` (the current default value), which uses the default pickle module implicitly. It is possible to construct malicious pickle data which will execute arbitrary code during unpickling (See https://github.com/pytorch/pytorch/blob/main/SECURITY.md#untrusted-models for more details). In a future release, the default value for `weights_only` will be flipped to `True`. This limits the functions that could be executed during unpickling. Arbitrary objects will no longer be allowed to be loaded via this mode unless they are explicitly allowlisted by the user via `torch.serialization.add_safe_globals`. We recommend you start setting `weights_only=True` for any use case where you don't have full control of the loaded file. Please open an issue on GitHub for any issues related to this experimental feature.\n",
      "  Netnew1=torch.load(r'E:/learning_python/weights/catdogclassifi_0.15_4000_1-%s.pth' % (239))\n",
      "C:\\Users\\Administrator\\AppData\\Local\\Temp\\ipykernel_12256\\1781657080.py:225: FutureWarning: You are using `torch.load` with `weights_only=False` (the current default value), which uses the default pickle module implicitly. It is possible to construct malicious pickle data which will execute arbitrary code during unpickling (See https://github.com/pytorch/pytorch/blob/main/SECURITY.md#untrusted-models for more details). In a future release, the default value for `weights_only` will be flipped to `True`. This limits the functions that could be executed during unpickling. Arbitrary objects will no longer be allowed to be loaded via this mode unless they are explicitly allowlisted by the user via `torch.serialization.add_safe_globals`. We recommend you start setting `weights_only=True` for any use case where you don't have full control of the loaded file. Please open an issue on GitHub for any issues related to this experimental feature.\n",
      "  Netnew2=torch.load(r'E:/learning_python/weights/catdogclassifi_0.15_4000_2-%s.pth' % (284))\n",
      "C:\\Users\\Administrator\\AppData\\Local\\Temp\\ipykernel_12256\\1781657080.py:228: FutureWarning: You are using `torch.load` with `weights_only=False` (the current default value), which uses the default pickle module implicitly. It is possible to construct malicious pickle data which will execute arbitrary code during unpickling (See https://github.com/pytorch/pytorch/blob/main/SECURITY.md#untrusted-models for more details). In a future release, the default value for `weights_only` will be flipped to `True`. This limits the functions that could be executed during unpickling. Arbitrary objects will no longer be allowed to be loaded via this mode unless they are explicitly allowlisted by the user via `torch.serialization.add_safe_globals`. We recommend you start setting `weights_only=True` for any use case where you don't have full control of the loaded file. Please open an issue on GitHub for any issues related to this experimental feature.\n",
      "  Netnew3=torch.load(r'E:/learning_python/weights/catdogclassifi_0.15_4000_3-%s.pth' % (139))\n",
      "C:\\Users\\Administrator\\AppData\\Local\\Temp\\ipykernel_12256\\1781657080.py:231: FutureWarning: You are using `torch.load` with `weights_only=False` (the current default value), which uses the default pickle module implicitly. It is possible to construct malicious pickle data which will execute arbitrary code during unpickling (See https://github.com/pytorch/pytorch/blob/main/SECURITY.md#untrusted-models for more details). In a future release, the default value for `weights_only` will be flipped to `True`. This limits the functions that could be executed during unpickling. Arbitrary objects will no longer be allowed to be loaded via this mode unless they are explicitly allowlisted by the user via `torch.serialization.add_safe_globals`. We recommend you start setting `weights_only=True` for any use case where you don't have full control of the loaded file. Please open an issue on GitHub for any issues related to this experimental feature.\n",
      "  Netnew4=torch.load(r'E:/learning_python/weights/catdogclassifi_0.15_4000_4-%s.pth' % (187))\n"
     ]
    },
    {
     "name": "stdout",
     "output_type": "stream",
     "text": [
      "0\n",
      "1\n",
      "2\n",
      "3\n",
      "4\n",
      "5\n",
      "6\n",
      "7\n",
      "8\n",
      "9\n",
      "10\n",
      "11\n",
      "12\n",
      "13\n",
      "14\n",
      "15\n",
      "16\n",
      "17\n",
      "18\n",
      "19\n",
      "20\n",
      "21\n",
      "22\n",
      "23\n",
      "24\n",
      "25\n",
      "26\n",
      "27\n",
      "28\n",
      "29\n",
      "30\n",
      "31\n",
      "32\n",
      "33\n",
      "34\n",
      "35\n",
      "36\n",
      "37\n",
      "38\n",
      "39\n",
      "40\n",
      "41\n",
      "42\n",
      "43\n",
      "44\n",
      "45\n",
      "46\n",
      "47\n",
      "48\n",
      "49\n",
      "50\n",
      "51\n",
      "52\n",
      "53\n",
      "54\n",
      "55\n",
      "56\n",
      "57\n",
      "58\n",
      "59\n",
      "60\n",
      "61\n",
      "62\n",
      "63\n",
      "64\n",
      "65\n",
      "66\n",
      "67\n",
      "68\n",
      "69\n",
      "70\n",
      "71\n",
      "72\n",
      "73\n",
      "74\n",
      "75\n",
      "76\n",
      "77\n",
      "78\n",
      "79\n",
      "80\n",
      "81\n",
      "82\n",
      "83\n",
      "84\n",
      "85\n",
      "86\n",
      "87\n",
      "88\n",
      "89\n",
      "90\n",
      "91\n",
      "92\n",
      "93\n",
      "94\n",
      "95\n",
      "96\n",
      "97\n",
      "98\n",
      "99\n",
      "100\n",
      "101\n",
      "102\n",
      "103\n",
      "104\n",
      "105\n",
      "106\n",
      "107\n",
      "108\n",
      "109\n",
      "110\n",
      "111\n",
      "112\n",
      "113\n",
      "114\n",
      "115\n",
      "116\n",
      "117\n",
      "118\n",
      "119\n",
      "120\n",
      "121\n",
      "122\n",
      "123\n",
      "124\n",
      "125\n",
      "126\n",
      "127\n",
      "128\n",
      "129\n",
      "130\n",
      "131\n",
      "132\n",
      "133\n",
      "134\n",
      "135\n",
      "136\n",
      "137\n",
      "138\n",
      "139\n",
      "140\n",
      "141\n",
      "142\n",
      "143\n",
      "144\n",
      "145\n",
      "146\n",
      "147\n",
      "148\n",
      "149\n",
      "150\n",
      "151\n",
      "152\n",
      "153\n",
      "154\n",
      "155\n",
      "156\n",
      "157\n",
      "158\n",
      "159\n",
      "160\n",
      "161\n",
      "162\n",
      "163\n",
      "164\n",
      "165\n",
      "166\n",
      "167\n",
      "168\n",
      "169\n",
      "170\n",
      "171\n",
      "172\n",
      "173\n",
      "174\n",
      "175\n",
      "176\n",
      "177\n",
      "178\n",
      "179\n",
      "180\n",
      "181\n",
      "182\n",
      "183\n",
      "184\n",
      "185\n",
      "186\n",
      "187\n",
      "188\n",
      "189\n",
      "190\n",
      "191\n",
      "192\n",
      "193\n",
      "194\n",
      "195\n",
      "196\n",
      "197\n",
      "198\n",
      "199\n"
     ]
    }
   ],
   "source": [
    "#Generate GARCH(1,1)\n",
    "\n",
    "B=500\n",
    "\n",
    "MADE10=np.zeros(B)\n",
    "MADE11=np.zeros(B)\n",
    "MADE12=np.zeros(B)\n",
    "MADE13=np.zeros(B)\n",
    "MADE14=np.zeros(B)\n",
    "MADE15=np.zeros(B)\n",
    "MADE16=np.zeros(B)\n",
    "MADE17=np.zeros(B)\n",
    "MADE18=np.zeros(B)\n",
    "\n",
    "MADE20=np.zeros(B)\n",
    "MADE21=np.zeros(B)\n",
    "MADE22=np.zeros(B)\n",
    "MADE23=np.zeros(B)\n",
    "MADE24=np.zeros(B)\n",
    "MADE25=np.zeros(B)\n",
    "MADE26=np.zeros(B)\n",
    "MADE27=np.zeros(B)\n",
    "MADE28=np.zeros(B)\n",
    "\n",
    "MADE30=np.zeros(B)\n",
    "MADE31=np.zeros(B)\n",
    "MADE32=np.zeros(B)\n",
    "MADE33=np.zeros(B)\n",
    "MADE34=np.zeros(B)\n",
    "MADE35=np.zeros(B)\n",
    "MADE36=np.zeros(B)\n",
    "MADE37=np.zeros(B)\n",
    "MADE38=np.zeros(B)\n",
    "\n",
    "MADE40=np.zeros(B)\n",
    "MADE41=np.zeros(B)\n",
    "MADE42=np.zeros(B)\n",
    "MADE43=np.zeros(B)\n",
    "MADE44=np.zeros(B)\n",
    "MADE45=np.zeros(B)\n",
    "MADE46=np.zeros(B)\n",
    "MADE47=np.zeros(B)\n",
    "MADE48=np.zeros(B)\n",
    "\n",
    "#Define functional coefficients\n",
    "def g10(x): return 1.5*np.exp(-3*(x+1)**2)+1*np.exp(-8*(x-1)**2)\n",
    "def g11(x): return (0.15*np.exp(4*x)/(1+np.exp(4*x)))\n",
    "def g12(x): return (0.04*(x)**2)\n",
    "def g13(x): return (0.15*np.exp(-4*x)/(1+np.exp(-4*x)))\n",
    "def g14(x): return (0.1*((np.cos(x))**2))\n",
    "def g15(x): return (0.15*np.exp(4*x)/(1+np.exp(4*x)))\n",
    "def g16(x): return (0.04*(x)**2)\n",
    "def g17(x): return (0.15*np.exp(-4*x)/(1+np.exp(-4*x)))\n",
    "def g18(x): return (0.1*((np.cos(x))**2))\n",
    "\n",
    "def g20(x): return 1.5*np.exp(-3*(x-1)**2)+1*np.exp(-8*(x+1)**2)\n",
    "def g21(x): return (0.1*np.sin(-0.8*np.pi*x)+0.1)\n",
    "def g22(x): return (0.15*np.exp(4*x)/(1+np.exp(4*x)))\n",
    "def g23(x): return (0.1*np.sin(-0.8*np.pi*x)+0.1)\n",
    "def g24(x): return (0.15*np.exp(-4*x)/(1+np.exp(-4*x)))\n",
    "def g25(x): return (0.1*np.sin(-0.8*np.pi*x)+0.1)\n",
    "def g26(x): return (0.15*np.exp(4*x)/(1+np.exp(4*x)))\n",
    "def g27(x): return (0.1*np.sin(-0.8*np.pi*x)+0.1)\n",
    "def g28(x): return (0.15*np.exp(-4*x)/(1+np.exp(-4*x)))\n",
    "\n",
    "def g30(x): return 1.5*np.exp(-3*(x+1)**2)+1*np.exp(-8*(x-1)**2)\n",
    "def g31(x): return (0.1*np.sin(0.8*np.pi*x)+0.1)\n",
    "def g32(x): return (0.1*np.cos(0.8*np.pi*x)+0.1)\n",
    "def g33(x): return (0.1*np.sin(0.8*np.pi*x)+0.1)\n",
    "def g34(x): return (0.1*np.cos(0.8*np.pi*x)+0.1)\n",
    "def g35(x): return (0.1*np.sin(0.8*np.pi*x)+0.1)\n",
    "def g36(x): return (0.1*np.cos(0.8*np.pi*x)+0.1)\n",
    "def g37(x): return (0.1*np.sin(0.8*np.pi*x)+0.1)\n",
    "def g38(x): return (0.1*np.cos(0.8*np.pi*x)+0.1)\n",
    "\n",
    "def g40(x): return 1.5*np.exp(-3*(x-1)**2)+1*np.exp(-8*(x+1)**2)\n",
    "def g41(x): return (0.1*np.cos(0.8*np.pi*x)+0.1)\n",
    "def g42(x): return (0.1*np.sin(0.8*np.pi*x)+0.1)\n",
    "def g43(x): return (0.1*np.cos(0.8*np.pi*x)+0.1)\n",
    "def g44(x): return (0.1*np.sin(0.8*np.pi*x)+0.1)\n",
    "def g45(x): return (0.1*np.cos(0.8*np.pi*x)+0.1)\n",
    "def g46(x): return (0.1*np.sin(0.8*np.pi*x)+0.1)\n",
    "def g47(x): return (0.1*np.cos(0.8*np.pi*x)+0.1)\n",
    "def g48(x): return (0.1*np.sin(0.8*np.pi*x)+0.1)\n",
    "    \n",
    "tau=0.15\n",
    "n=4000\n",
    "\n",
    "for b in range(B):  \n",
    "    \n",
    " index=np.zeros((n,1))\n",
    " coefx1=np.zeros((n,9))\n",
    " coefx2=np.zeros((n,9))\n",
    " coefx3=np.zeros((n,9))\n",
    " coefx4=np.zeros((n,9))\n",
    "  \n",
    " Y1=np.zeros((n,1))\n",
    " Y1[0]=0\n",
    " stdev1=np.zeros((n,1))\n",
    " stdev1[0]=1\n",
    " Y2=np.zeros((n,1))\n",
    " Y2[0]=0\n",
    " stdev2=np.zeros((n,1))\n",
    " stdev2[0]=1\n",
    "  \n",
    " Y3=np.zeros((n,1))\n",
    " Y3[0]=0\n",
    " stdev3=np.zeros((n,1))\n",
    " stdev3[0]=1\n",
    " Y4=np.zeros((n,1))\n",
    " Y4[0]=0\n",
    " stdev4=np.zeros((n,1))\n",
    " stdev4[0]=1 \n",
    "\n",
    " for j in range(2,(n+1)):\n",
    "    \n",
    "     index[j-1]=np.random.uniform(-2,2+10**-10,1)\n",
    "     e1=np.random.uniform(0,1+10**-10,1)\n",
    "     e2=np.random.uniform(0,1+10**-10,1)\n",
    "     e3=np.random.uniform(0,1+10**-10,1)\n",
    "     e4=np.random.uniform(0,1+10**-10,1)\n",
    "     e31=(0.2*(e1)**2)+0.8\n",
    "     e32=(0.2*np.exp(e1))+0.8\n",
    "     e41=(0.2*(e2)**2)+0.8\n",
    "     e42=(0.2*np.exp(e2))+0.8\n",
    "     e51=(0.2*(e3)**2)+0.8\n",
    "     e52=(0.2*np.exp(e3))+0.8\n",
    "     e61=(0.2*(e4)**2)+0.8\n",
    "     e62=(0.2*np.exp(e4))+0.8\n",
    "    \n",
    "     e5=np.random.normal(0,1,1)\n",
    "     e6=np.random.normal(0,1,1)   \n",
    "     e7=np.random.normal(0,1,1) \n",
    "     e8=np.random.normal(0,1,1) \n",
    "\n",
    "     coefx1[j-1,]=[g10(index[j-1]).item(),(g11(index[j-1])*e31).item(),(g12(index[j-1])*e32).item(),(g13(index[j-1])*e31).item(),(g14(index[j-1])*e32).item(),g15(index[j-1]).item(),g16(index[j-1]).item(),g17(index[j-1]).item(),g18(index[j-1]).item()]\n",
    "     coefx2[j-1,]=[g20(index[j-1]).item(),(g21(index[j-1])*e41).item(),(g22(index[j-1])*e42).item(),(g23(index[j-1])*e41).item(),(g24(index[j-1])*e42).item(),g25(index[j-1]).item(),g26(index[j-1]).item(),g27(index[j-1]).item(),g28(index[j-1]).item()]\n",
    "     coefx3[j-1,]=[g30(index[j-1]).item(),(g31(index[j-1])*e51).item(),(g32(index[j-1])*e52).item(),(g33(index[j-1])*e51).item(),(g34(index[j-1])*e52).item(),g35(index[j-1]).item(),g36(index[j-1]).item(),g37(index[j-1]).item(),g38(index[j-1]).item()]\n",
    "     coefx4[j-1,]=[g40(index[j-1]).item(),(g41(index[j-1])*e61).item(),(g42(index[j-1])*e62).item(),(g43(index[j-1])*e61).item(),(g44(index[j-1])*e62).item(),g45(index[j-1]).item(),g46(index[j-1]).item(),g47(index[j-1]).item(),g48(index[j-1]).item()]\n",
    "    \n",
    "     stdev1[j-1]=np.dot(coefx1[j-1,],[1,stdev1[j-2].item(),stdev2[j-2].item(),stdev3[j-2].item(),stdev4[j-2].item(),np.absolute(Y1[j-2]).item(),np.absolute(Y2[j-2]).item(),np.absolute(Y3[j-2]).item(),np.absolute(Y4[j-2]).item()])\n",
    "     stdev2[j-1]=np.dot(coefx2[j-1,],[1,stdev1[j-2].item(),stdev2[j-2].item(),stdev3[j-2].item(),stdev4[j-2].item(),np.absolute(Y1[j-2]).item(),np.absolute(Y2[j-2]).item(),np.absolute(Y3[j-2]).item(),np.absolute(Y4[j-2]).item()])\n",
    "     stdev3[j-1]=np.dot(coefx3[j-1,],[1,stdev1[j-2].item(),stdev2[j-2].item(),stdev3[j-2].item(),stdev4[j-2].item(),np.absolute(Y1[j-2]).item(),np.absolute(Y2[j-2]).item(),np.absolute(Y3[j-2]).item(),np.absolute(Y4[j-2]).item()])\n",
    "     stdev4[j-1]=np.dot(coefx4[j-1,],[1,stdev1[j-2].item(),stdev2[j-2].item(),stdev3[j-2].item(),stdev4[j-2].item(),np.absolute(Y1[j-2]).item(),np.absolute(Y2[j-2]).item(),np.absolute(Y3[j-2]).item(),np.absolute(Y4[j-2]).item()])\n",
    "    \n",
    "     Y1[j-1]=stdev1[j-1]*e5\n",
    "     Y2[j-1]=stdev2[j-1]*e6\n",
    "     Y3[j-1]=stdev3[j-1]*e7\n",
    "     Y4[j-1]=stdev4[j-1]*e8\n",
    " \n",
    " Y1=Y1[1:n]\n",
    " Y2=Y2[1:n]\n",
    " Y3=Y3[1:n]\n",
    " Y4=Y4[1:n]\n",
    " stdev1=stdev1[1:n]\n",
    " stdev2=stdev2[1:n]\n",
    " stdev3=stdev3[1:n]\n",
    " stdev4=stdev4[1:n]\n",
    " index=index[1:n]\n",
    " n=np.size(index,0)\n",
    "  \n",
    " ymax1=np.max(Y1)\n",
    " ymax2=np.max(Y2)\n",
    " ymin1=np.min(Y1)\n",
    " ymin2=np.min(Y2)\n",
    " ymax3=np.max(Y3)\n",
    " ymax4=np.max(Y4)\n",
    " ymin3=np.min(Y3)\n",
    " ymin4=np.min(Y4)\n",
    "\n",
    " yrange1=np.max(ymax1)-np.min(ymin1)\n",
    " yrange2=np.max(ymax2)-np.min(ymin2)\n",
    " yrange3=np.max(ymax3)-np.min(ymin3)\n",
    " yrange4=np.max(ymax4)-np.min(ymin4) \n",
    "    \n",
    " #Preliminary step\n",
    " L=int(np.floor(0.8*(n^(1/8)))\n",
    " preY=np.hstack((Y1,Y2,Y3,Y4))\n",
    " Y=np.hstack((Y1[(L+1):(n-1)],Y2[(L+1):(n-1)],Y3[(L+1):(n-1)],Y4[(L+1):(n-1)]))\n",
    " indexz=index[(L+1):(n-1)]\n",
    " kap=np.size(preY,1)\n",
    " preY11=np.zeros(((n-L-2),(kap*(L+1))))\n",
    " indexzz=np.zeros(((n-L-2),(L+1)))\n",
    "  \n",
    " for lg in range(L+1):\n",
    "    \n",
    "   preY11[:,(kap*lg):(kap*(lg+1))]=np.absolute(preY[((L+1)-lg-1):(n-1-lg-1),:])\n",
    "   indexzz[:,lg]=index[((L+1)-(lg)):((n-1)-(lg))].reshape(-1)\n",
    "\n",
    " nm0=np.zeros((L+2,1))\n",
    " nm0[0]=0\n",
    " for l in range(L+1):\n",
    "   nm0[(l+1)]=nm0[l]+(l+1)+kap\n",
    " nm0[0]=0\n",
    " nm=nm0.astype(int)\n",
    "\n",
    " x_trainin=np.zeros((n-L-2,nm[L+1][0]))\n",
    " for ll in range(L+1):\n",
    "   x_trainin[:,(nm[ll][0]):nm[(ll+1)][0]]=np.hstack((indexzz[:,0:(ll+1)],preY11[:,(kap*ll):(kap*(ll+1))]))\n",
    "\n",
    "    \n",
    " # standardize covariates\n",
    " Y_1=torch.tensor(Y[:,0].reshape(-1,1).astype('float32'))\n",
    " Y_2=torch.tensor(Y[:,1].reshape(-1,1).astype('float32'))\n",
    " Y_3=torch.tensor(Y[:,2].reshape(-1,1).astype('float32'))\n",
    " Y_4=torch.tensor(Y[:,3].reshape(-1,1).astype('float32'))\n",
    " indexz=torch.tensor(indexz.astype('float32'))\n",
    "\n",
    " preY11=torch.tensor(preY11.astype('float32'))\n",
    " indexzz=torch.tensor(indexzz.astype('float32'))\n",
    " #x_train=torch.cat((indexzz,preY11),1) \n",
    " x_test=torch.tensor(x_trainin.astype('float32'))\n",
    "    \n",
    " # hyperparameters\n",
    " nodes = [2,128] # number of network layers and nodes per layer\n",
    " lr = 0.001\n",
    " epochs = 500\n",
    " verbose = False\n",
    " sparseRatio = 0.5\n",
    "\n",
    " # neural networks\n",
    " Netnew1=torch.load(r'E:/learning_python/weights/catdogclassifi_0.15_4000_1-%s.pth' % (239)) #the number of order of the best modelis obtained in validation\n",
    " sigmatile1=Netnew1(x_test).detach().numpy()\n",
    "\n",
    " Netnew2=torch.load(r'E:/learning_python/weights/catdogclassifi_0.15_4000_2-%s.pth' % (284))\n",
    " sigmatile2=Netnew2(x_test).detach().numpy() \n",
    "\n",
    " Netnew3=torch.load(r'E:/learning_python/weights/catdogclassifi_0.15_4000_3-%s.pth' % (139))\n",
    " sigmatile3=Netnew3(x_test).detach().numpy()\n",
    "\n",
    " Netnew4=torch.load(r'E:/learning_python/weights/catdogclassifi_0.15_4000_4-%s.pth' % (187))\n",
    " sigmatile4=Netnew4(x_test).detach().numpy()\n",
    "\n",
    " sigmatile=np.hstack((sigmatile1,sigmatile2,sigmatile3,sigmatile4)) \n",
    "    \n",
    " #Step 2\n",
    " L1=1\n",
    " Ynew=np.hstack((Y1[(L+2):n],Y2[(L+2):n],Y3[(L+2):n],Y4[(L+2):n]))\n",
    " indexzz2=index[(L+2):n]\n",
    " ztile1=np.hstack((sigmatile,np.absolute(Y)))\n",
    "  \n",
    " ymax1=np.max(Y1)\n",
    " ymax2=np.max(Y2)\n",
    " ymin1=np.min(Y1)\n",
    " ymin2=np.min(Y2)\n",
    " ymax3=np.max(Y3)\n",
    " ymax4=np.max(Y4)\n",
    " ymin3=np.min(Y3)\n",
    " ymin4=np.min(Y4)\n",
    "\n",
    " b11=0.06*19.17221\n",
    " b12=0.3*19.17221\n",
    " b21=0.06*19.41568\n",
    " b22=0.3*19.41568\n",
    "  \n",
    " y_rangenew1=np.median(ymax1)-np.median(ymin1)\n",
    " h0cnew1=np.arange(b11*((n-L-L1-1)**-0.2),b12*((n-L-L1-1)**-0.2),0.2)\n",
    " y_rangenew2=np.median(ymax2)-np.median(ymin2)\n",
    " h0cnew2=np.arange(b21*((n-L-L1-1)**-0.2),b22*((n-L-L1-1)**-0.2),0.2)\n",
    " nh1=len(h0cnew1)\n",
    " nh2=len(h0cnew2)\n",
    " aicval1=np.zeros(nh1)\n",
    " aicval2=np.zeros(nh2)\n",
    " aicval3=np.zeros(nh1)\n",
    " aicval4=np.zeros(nh2)\n",
    "\n",
    " #for kk1 in range(nh1):\n",
    "   #aic,RSSm=bandwidthaic(Ynew[:,0],ztile1,tau,h0cnew1[kk1],indexzz2,indexzz2)\n",
    "   #aicval1[kk1]=aic\n",
    "   #print(kk1)\n",
    "\n",
    " #ind5=np.argmin(aicval1)\n",
    " #hpf5=h0cnew1[ind5]  \n",
    " #hpf5\n",
    " hpf5=0.8190273  \n",
    "\n",
    " #for kk2 in range(nh2):\n",
    "   #aic,RSSm=bandwidthaic(Ynew[:,1],ztile1,tau,h0cnew2[kk2],indexzz2,indexzz2)\n",
    "   #aicval2[kk2]=aic\n",
    "   #print(kk2)\n",
    "  \n",
    " #ind6=np.argmin(aicval2)\n",
    " #hpf6=h0cnew2[ind6]\n",
    " #hpf6\n",
    " hpf6=0.8218088   \n",
    "\n",
    " #for kk3 in range(nh1):\n",
    "   #aic,RSSm=bandwidthaic(Ynew[:,2],ztile1,tau,h0cnew1[kk3],indexzz2,indexzz2)\n",
    "   #aicval3[kk3]=aic\n",
    "   #print(kk3)\n",
    "  \n",
    " #ind7=np.argmin(aicval3)\n",
    " #hpf7=h0cnew1[ind7]  \n",
    " #hpf7\n",
    " hpf7=0.8190273 \n",
    "\n",
    " #for kk4 in range(nh2):\n",
    "   #aic,RSSm=bandwidthaic(Ynew[:,3],ztile1,tau,h0cnew2[kk4],indexzz2,indexzz2)\n",
    "   #aicval4[kk4]=aic\n",
    "   #print(kk4)\n",
    "  \n",
    " #ind8=np.argmin(aicval4)\n",
    " #hpf8=h0cnew2[ind8]\n",
    " #hpf8\n",
    " hpf8=0.8218088\n",
    "\n",
    " grid=np.arange(-1.75,1.85,0.1)\n",
    " ngrid=len(grid)\n",
    "\n",
    " fv, dv, w0 = lprq0g(Ynew[:,0], ztile1, hpf5, tau, indexzz2, grid)\n",
    " ainfinal1=fv\n",
    " fv, dv, w0 = lprq0g(Ynew[:,1], ztile1, hpf6, tau, indexzz2, grid)\n",
    " ainfinal2=fv\n",
    "  \n",
    " fv, dv, w0 = lprq0g(Ynew[:,2], ztile1, hpf7, tau, indexzz2, grid)\n",
    " ainfinal3=fv\n",
    " fv, dv, w0 = lprq0g(Ynew[:,3], ztile1, hpf8, tau, indexzz2, grid)\n",
    " ainfinal4=fv\n",
    "\n",
    " aintrue10=np.zeros(ngrid)\n",
    " aintrue11=np.zeros(ngrid)\n",
    " aintrue12=np.zeros(ngrid)\n",
    " aintrue13=np.zeros(ngrid)\n",
    " aintrue14=np.zeros(ngrid)\n",
    " aintrue15=np.zeros(ngrid)\n",
    " aintrue16=np.zeros(ngrid)\n",
    " aintrue17=np.zeros(ngrid)\n",
    " aintrue18=np.zeros(ngrid)\n",
    "  \n",
    " aintrue20=np.zeros(ngrid)\n",
    " aintrue21=np.zeros(ngrid)\n",
    " aintrue22=np.zeros(ngrid)\n",
    " aintrue23=np.zeros(ngrid)\n",
    " aintrue24=np.zeros(ngrid)\n",
    " aintrue25=np.zeros(ngrid)\n",
    " aintrue26=np.zeros(ngrid)\n",
    " aintrue27=np.zeros(ngrid)\n",
    " aintrue28=np.zeros(ngrid)\n",
    "  \n",
    " aintrue30=np.zeros(ngrid)\n",
    " aintrue31=np.zeros(ngrid)\n",
    " aintrue32=np.zeros(ngrid)\n",
    " aintrue33=np.zeros(ngrid)\n",
    " aintrue34=np.zeros(ngrid)\n",
    " aintrue35=np.zeros(ngrid)\n",
    " aintrue36=np.zeros(ngrid)\n",
    " aintrue37=np.zeros(ngrid)\n",
    " aintrue38=np.zeros(ngrid)\n",
    "  \n",
    " aintrue40=np.zeros(ngrid)\n",
    " aintrue41=np.zeros(ngrid)\n",
    " aintrue42=np.zeros(ngrid)\n",
    " aintrue43=np.zeros(ngrid)\n",
    " aintrue44=np.zeros(ngrid)\n",
    " aintrue45=np.zeros(ngrid)\n",
    " aintrue46=np.zeros(ngrid)\n",
    " aintrue47=np.zeros(ngrid)\n",
    " aintrue48=np.zeros(ngrid)\n",
    "    \n",
    " for k in range(ngrid):\n",
    "    aintrue10[k]=g10(grid[k]).item()\n",
    "    aintrue11[k]=g11(grid[k]).item()\n",
    "    aintrue12[k]=g12(grid[k]).item()\n",
    "    aintrue13[k]=g13(grid[k]).item()\n",
    "    aintrue14[k]=g14(grid[k]).item()\n",
    "    aintrue15[k]=g15(grid[k]).item()\n",
    "    aintrue16[k]=g16(grid[k]).item()\n",
    "    aintrue17[k]=g17(grid[k]).item()\n",
    "    aintrue18[k]=g18(grid[k]).item()\n",
    "    \n",
    "  \n",
    " for k in range(ngrid):\n",
    "    aintrue20[k]=g20(grid[k]).item()\n",
    "    aintrue21[k]=g21(grid[k]).item()\n",
    "    aintrue22[k]=g22(grid[k]).item()\n",
    "    aintrue23[k]=g23(grid[k]).item()\n",
    "    aintrue24[k]=g24(grid[k]).item()\n",
    "    aintrue25[k]=g25(grid[k]).item()\n",
    "    aintrue26[k]=g26(grid[k]).item()\n",
    "    aintrue27[k]=g27(grid[k]).item()\n",
    "    aintrue28[k]=g28(grid[k]).item()\n",
    "    \n",
    "  \n",
    " for k in range(ngrid):\n",
    "    aintrue30[k]=g30(grid[k]).item()\n",
    "    aintrue31[k]=g31(grid[k]).item()\n",
    "    aintrue32[k]=g32(grid[k]).item()\n",
    "    aintrue33[k]=g33(grid[k]).item()\n",
    "    aintrue34[k]=g34(grid[k]).item()\n",
    "    aintrue35[k]=g35(grid[k]).item()\n",
    "    aintrue36[k]=g36(grid[k]).item()\n",
    "    aintrue37[k]=g37(grid[k]).item()\n",
    "    aintrue38[k]=g38(grid[k]).item()\n",
    "    \n",
    "  \n",
    " for k in range(ngrid):\n",
    "    aintrue40[k]=g40(grid[k]).item()\n",
    "    aintrue41[k]=g41(grid[k]).item()\n",
    "    aintrue42[k]=g42(grid[k]).item()\n",
    "    aintrue43[k]=g43(grid[k]).item()\n",
    "    aintrue44[k]=g44(grid[k]).item()\n",
    "    aintrue45[k]=g45(grid[k]).item()\n",
    "    aintrue46[k]=g46(grid[k]).item()\n",
    "    aintrue47[k]=g47(grid[k]).item()\n",
    "    aintrue48[k]=g48(grid[k]).item()\n",
    "\n",
    " MADE10[b]=np.mean(np.absolute((ainfinal1[:,0])-(aintrue10*(norm.ppf(tau,0,1)))))\n",
    " MADE11[b]=np.mean(np.absolute((ainfinal1[:,1])-(aintrue11*((0.2*(tau)**2)+0.8))))\n",
    " MADE12[b]=np.mean(np.absolute((ainfinal1[:,2])-(aintrue12*((0.2*np.exp(tau))+0.8))))\n",
    " MADE13[b]=np.mean(np.absolute((ainfinal1[:,3])-(aintrue13*((0.2*(tau)**2)+0.8))))\n",
    " MADE14[b]=np.mean(np.absolute((ainfinal1[:,4])-(aintrue14*((0.2*np.exp(tau))+0.8))))\n",
    " MADE15[b]=np.mean(np.absolute((ainfinal1[:,5])-(aintrue15*(norm.ppf(tau,0,1)))))\n",
    " MADE16[b]=np.mean(np.absolute((ainfinal1[:,6])-(aintrue16*(norm.ppf(tau,0,1)))))\n",
    " MADE17[b]=np.mean(np.absolute((ainfinal1[:,7])-(aintrue17*(norm.ppf(tau,0,1)))))\n",
    " MADE18[b]=np.mean(np.absolute((ainfinal1[:,8])-(aintrue18*(norm.ppf(tau,0,1)))))\n",
    "  \n",
    " MADE20[b]=np.mean(np.absolute((ainfinal2[:,0])-(aintrue20*(norm.ppf(tau,0,1)))))\n",
    " MADE21[b]=np.mean(np.absolute((ainfinal2[:,1])-(aintrue21*((0.2*(tau)**2)+0.8))))\n",
    " MADE22[b]=np.mean(np.absolute((ainfinal2[:,2])-(aintrue22*((0.2*np.exp(tau))+0.8))))\n",
    " MADE23[b]=np.mean(np.absolute((ainfinal2[:,3])-(aintrue23*((0.2*(tau)**2)+0.8))))\n",
    " MADE24[b]=np.mean(np.absolute((ainfinal2[:,4])-(aintrue24*((0.2*np.exp(tau))+0.8))))\n",
    " MADE25[b]=np.mean(np.absolute((ainfinal2[:,5])-(aintrue25*(norm.ppf(tau,0,1)))))\n",
    " MADE26[b]=np.mean(np.absolute((ainfinal2[:,6])-(aintrue26*(norm.ppf(tau,0,1)))))\n",
    " MADE27[b]=np.mean(np.absolute((ainfinal2[:,7])-(aintrue27*(norm.ppf(tau,0,1)))))\n",
    " MADE28[b]=np.mean(np.absolute((ainfinal2[:,8])-(aintrue28*(norm.ppf(tau,0,1)))))\n",
    "   \n",
    " MADE30[b]=np.mean(np.absolute((ainfinal3[:,0])-(aintrue30*(norm.ppf(tau,0,1)))))\n",
    " MADE31[b]=np.mean(np.absolute((ainfinal3[:,1])-(aintrue31*((0.2*(tau)**2)+0.8))))\n",
    " MADE32[b]=np.mean(np.absolute((ainfinal3[:,2])-(aintrue32*((0.2*np.exp(tau))+0.8))))\n",
    " MADE33[b]=np.mean(np.absolute((ainfinal3[:,3])-(aintrue33*((0.2*(tau)**2)+0.8))))\n",
    " MADE34[b]=np.mean(np.absolute((ainfinal3[:,4])-(aintrue34*((0.2*np.exp(tau))+0.8))))\n",
    " MADE35[b]=np.mean(np.absolute((ainfinal3[:,5])-(aintrue35*(norm.ppf(tau,0,1)))))\n",
    " MADE36[b]=np.mean(np.absolute((ainfinal3[:,6])-(aintrue36*(norm.ppf(tau,0,1)))))\n",
    " MADE37[b]=np.mean(np.absolute((ainfinal3[:,7])-(aintrue37*(norm.ppf(tau,0,1)))))\n",
    " MADE38[b]=np.mean(np.absolute((ainfinal3[:,8])-(aintrue38*(norm.ppf(tau,0,1)))))\n",
    "  \n",
    " MADE40[b]=np.mean(np.absolute((ainfinal4[:,0])-(aintrue40*(norm.ppf(tau,0,1)))))\n",
    " MADE41[b]=np.mean(np.absolute((ainfinal4[:,1])-(aintrue41*((0.2*(tau)**2)+0.8))))\n",
    " MADE42[b]=np.mean(np.absolute((ainfinal4[:,2])-(aintrue42*((0.2*np.exp(tau))+0.8))))\n",
    " MADE43[b]=np.mean(np.absolute((ainfinal4[:,3])-(aintrue43*((0.2*(tau)**2)+0.8))))\n",
    " MADE44[b]=np.mean(np.absolute((ainfinal4[:,4])-(aintrue44*((0.2*np.exp(tau))+0.8))))\n",
    " MADE45[b]=np.mean(np.absolute((ainfinal4[:,5])-(aintrue45*(norm.ppf(tau,0,1)))))\n",
    " MADE46[b]=np.mean(np.absolute((ainfinal4[:,6])-(aintrue46*(norm.ppf(tau,0,1)))))\n",
    " MADE47[b]=np.mean(np.absolute((ainfinal4[:,7])-(aintrue47*(norm.ppf(tau,0,1)))))\n",
    " MADE48[b]=np.mean(np.absolute((ainfinal4[:,8])-(aintrue48*(norm.ppf(tau,0,1)))))\n",
    "\n",
    " print(b)\n",
    "     "
   ]
  },
  {
   "cell_type": "code",
   "execution_count": 3,
   "id": "2cbc7f29-d2c8-4b6c-891a-c5c2912c81d6",
   "metadata": {},
   "outputs": [],
   "source": [
    "MMADE10=np.median(MADE10)\n",
    "std10=np.std(MADE10)\n",
    "MMADE11=np.median(MADE11)\n",
    "std11=np.std(MADE11)\n",
    "MMADE12=np.median(MADE12)\n",
    "std12=np.std(MADE12)\n",
    "MMADE13=np.median(MADE13)\n",
    "std13=np.std(MADE13)\n",
    "MMADE14=np.median(MADE14)\n",
    "std14=np.std(MADE14)\n",
    "MMADE15=np.median(MADE15)\n",
    "std15=np.std(MADE15)\n",
    "MMADE16=np.median(MADE16)\n",
    "std16=np.std(MADE16)\n",
    "MMADE17=np.median(MADE17)\n",
    "std17=np.std(MADE17)\n",
    "MMADE18=np.median(MADE18)\n",
    "std18=np.std(MADE18)\n",
    "\n",
    "MMADE20=np.median(MADE20)\n",
    "std20=np.std(MADE20)\n",
    "MMADE21=np.median(MADE21)\n",
    "std21=np.std(MADE21)\n",
    "MMADE22=np.median(MADE22)\n",
    "std22=np.std(MADE22)\n",
    "MMADE23=np.median(MADE23)\n",
    "std23=np.std(MADE23)\n",
    "MMADE24=np.median(MADE24)\n",
    "std24=np.std(MADE24)\n",
    "MMADE25=np.median(MADE25)\n",
    "std25=np.std(MADE25)\n",
    "MMADE26=np.median(MADE26)\n",
    "std26=np.std(MADE26)\n",
    "MMADE27=np.median(MADE27)\n",
    "std27=np.std(MADE27)\n",
    "MMADE28=np.median(MADE28)\n",
    "std28=np.std(MADE28)\n",
    "\n",
    "MMADE30=np.median(MADE30)\n",
    "std30=np.std(MADE30)\n",
    "MMADE31=np.median(MADE31)\n",
    "std31=np.std(MADE31)\n",
    "MMADE32=np.median(MADE32)\n",
    "std32=np.std(MADE32)\n",
    "MMADE33=np.median(MADE33)\n",
    "std33=np.std(MADE33)\n",
    "MMADE34=np.median(MADE34)\n",
    "std34=np.std(MADE34)\n",
    "MMADE35=np.median(MADE35)\n",
    "std35=np.std(MADE35)\n",
    "MMADE36=np.median(MADE36)\n",
    "std36=np.std(MADE36)\n",
    "MMADE37=np.median(MADE37)\n",
    "std37=np.std(MADE37)\n",
    "MMADE38=np.median(MADE38)\n",
    "std38=np.std(MADE38)\n",
    "\n",
    "MMADE40=np.median(MADE40)\n",
    "std40=np.std(MADE40)\n",
    "MMADE41=np.median(MADE41)\n",
    "std41=np.std(MADE41)\n",
    "MMADE42=np.median(MADE42)\n",
    "std42=np.std(MADE42)\n",
    "MMADE43=np.median(MADE43)\n",
    "std43=np.std(MADE43)\n",
    "MMADE44=np.median(MADE44)\n",
    "std44=np.std(MADE44)\n",
    "MMADE45=np.median(MADE45)\n",
    "std45=np.std(MADE45)\n",
    "MMADE46=np.median(MADE46)\n",
    "std46=np.std(MADE46)\n",
    "MMADE47=np.median(MADE47)\n",
    "std47=np.std(MADE47)\n",
    "MMADE48=np.median(MADE48)\n",
    "std48=np.std(MADE48)"
   ]
  },
  {
   "cell_type": "code",
   "execution_count": 4,
   "id": "233da9fc-8b17-4d0c-b704-e41de02ada40",
   "metadata": {},
   "outputs": [
    {
     "data": {
      "text/plain": [
       "0.23879313573758754"
      ]
     },
     "execution_count": 4,
     "metadata": {},
     "output_type": "execute_result"
    }
   ],
   "source": [
    "#v1\n",
    "MMADE10"
   ]
  },
  {
   "cell_type": "code",
   "execution_count": 5,
   "id": "27c781e1-6b7f-4cb5-a355-b2c76ffb9be1",
   "metadata": {},
   "outputs": [
    {
     "data": {
      "text/plain": [
       "0.04778712651887989"
      ]
     },
     "execution_count": 5,
     "metadata": {},
     "output_type": "execute_result"
    }
   ],
   "source": [
    "std10"
   ]
  },
  {
   "cell_type": "code",
   "execution_count": 6,
   "id": "d204e84d-cfe4-4cf4-a91f-857a4e71bd3e",
   "metadata": {},
   "outputs": [
    {
     "data": {
      "text/plain": [
       "0.10664287254915467"
      ]
     },
     "execution_count": 6,
     "metadata": {},
     "output_type": "execute_result"
    }
   ],
   "source": [
    "MMADE11"
   ]
  },
  {
   "cell_type": "code",
   "execution_count": 7,
   "id": "5dd162f2-8eab-4596-bcf9-f610ce04caa9",
   "metadata": {},
   "outputs": [
    {
     "data": {
      "text/plain": [
       "0.03591278709822838"
      ]
     },
     "execution_count": 7,
     "metadata": {},
     "output_type": "execute_result"
    }
   ],
   "source": [
    "std11"
   ]
  },
  {
   "cell_type": "code",
   "execution_count": 8,
   "id": "3d440252-4534-45b0-88f4-810d2b310ee8",
   "metadata": {},
   "outputs": [
    {
     "data": {
      "text/plain": [
       "0.07268570555205656"
      ]
     },
     "execution_count": 8,
     "metadata": {},
     "output_type": "execute_result"
    }
   ],
   "source": [
    "MMADE12"
   ]
  },
  {
   "cell_type": "code",
   "execution_count": 9,
   "id": "00638a8e-44ad-49cf-adeb-f0fab1b51170",
   "metadata": {},
   "outputs": [
    {
     "data": {
      "text/plain": [
       "0.025895359396744214"
      ]
     },
     "execution_count": 9,
     "metadata": {},
     "output_type": "execute_result"
    }
   ],
   "source": [
    "std12"
   ]
  },
  {
   "cell_type": "code",
   "execution_count": 10,
   "id": "07a218c0-66c8-4d45-9331-745b2f875ef3",
   "metadata": {},
   "outputs": [
    {
     "data": {
      "text/plain": [
       "0.10415313931531225"
      ]
     },
     "execution_count": 10,
     "metadata": {},
     "output_type": "execute_result"
    }
   ],
   "source": [
    "MMADE13"
   ]
  },
  {
   "cell_type": "code",
   "execution_count": 11,
   "id": "97ad7108-c4c0-43ac-9d78-330eb010c619",
   "metadata": {},
   "outputs": [
    {
     "data": {
      "text/plain": [
       "0.03633576556316535"
      ]
     },
     "execution_count": 11,
     "metadata": {},
     "output_type": "execute_result"
    }
   ],
   "source": [
    "std13"
   ]
  },
  {
   "cell_type": "code",
   "execution_count": 12,
   "id": "5426fdf8-ec6b-477c-84d2-77c60cd64558",
   "metadata": {},
   "outputs": [
    {
     "data": {
      "text/plain": [
       "0.08577241286881379"
      ]
     },
     "execution_count": 12,
     "metadata": {},
     "output_type": "execute_result"
    }
   ],
   "source": [
    "MMADE14"
   ]
  },
  {
   "cell_type": "code",
   "execution_count": 13,
   "id": "66b4d776-5fe0-48b3-a1f1-c76817bdb1b3",
   "metadata": {},
   "outputs": [
    {
     "data": {
      "text/plain": [
       "0.03125516306093233"
      ]
     },
     "execution_count": 13,
     "metadata": {},
     "output_type": "execute_result"
    }
   ],
   "source": [
    "std14"
   ]
  },
  {
   "cell_type": "code",
   "execution_count": 14,
   "id": "dc5eb3e4-ae93-4014-a8e3-a009621d343c",
   "metadata": {},
   "outputs": [
    {
     "data": {
      "text/plain": [
       "0.05875403158084498"
      ]
     },
     "execution_count": 14,
     "metadata": {},
     "output_type": "execute_result"
    }
   ],
   "source": [
    "MMADE15"
   ]
  },
  {
   "cell_type": "code",
   "execution_count": 15,
   "id": "0f4e8f96-4d19-49d4-81a9-2ad22d2893aa",
   "metadata": {},
   "outputs": [
    {
     "data": {
      "text/plain": [
       "0.02348495974469666"
      ]
     },
     "execution_count": 15,
     "metadata": {},
     "output_type": "execute_result"
    }
   ],
   "source": [
    "std15"
   ]
  },
  {
   "cell_type": "code",
   "execution_count": 16,
   "id": "ebc20852-7348-4e1b-9646-d486b6b10d32",
   "metadata": {},
   "outputs": [
    {
     "data": {
      "text/plain": [
       "0.05250633780128097"
      ]
     },
     "execution_count": 16,
     "metadata": {},
     "output_type": "execute_result"
    }
   ],
   "source": [
    "MMADE16"
   ]
  },
  {
   "cell_type": "code",
   "execution_count": 17,
   "id": "5f344e9b-6433-485e-a5ec-24b3dcfb1c1b",
   "metadata": {},
   "outputs": [
    {
     "data": {
      "text/plain": [
       "0.018172939664920434"
      ]
     },
     "execution_count": 17,
     "metadata": {},
     "output_type": "execute_result"
    }
   ],
   "source": [
    "std16"
   ]
  },
  {
   "cell_type": "code",
   "execution_count": 18,
   "id": "3ec15924-e93c-4a2c-85b4-b37d872da0ef",
   "metadata": {},
   "outputs": [
    {
     "data": {
      "text/plain": [
       "0.04774749140872818"
      ]
     },
     "execution_count": 18,
     "metadata": {},
     "output_type": "execute_result"
    }
   ],
   "source": [
    "MMADE17"
   ]
  },
  {
   "cell_type": "code",
   "execution_count": 19,
   "id": "f55fe38e-9391-460f-85b5-3d46666f46a4",
   "metadata": {},
   "outputs": [
    {
     "data": {
      "text/plain": [
       "0.017604899299407933"
      ]
     },
     "execution_count": 19,
     "metadata": {},
     "output_type": "execute_result"
    }
   ],
   "source": [
    "std17"
   ]
  },
  {
   "cell_type": "code",
   "execution_count": 20,
   "id": "175d4341-0dac-4aca-9761-61e329c3503a",
   "metadata": {},
   "outputs": [
    {
     "data": {
      "text/plain": [
       "0.04047781270191558"
      ]
     },
     "execution_count": 20,
     "metadata": {},
     "output_type": "execute_result"
    }
   ],
   "source": [
    "MMADE18"
   ]
  },
  {
   "cell_type": "code",
   "execution_count": 21,
   "id": "d96890b1-0bbc-4246-a14b-8a019c277b64",
   "metadata": {},
   "outputs": [
    {
     "data": {
      "text/plain": [
       "0.016294367524694438"
      ]
     },
     "execution_count": 21,
     "metadata": {},
     "output_type": "execute_result"
    }
   ],
   "source": [
    "std18"
   ]
  },
  {
   "cell_type": "code",
   "execution_count": 22,
   "id": "24a0b92b-ebda-49fe-87b0-df83efead4a5",
   "metadata": {},
   "outputs": [
    {
     "data": {
      "text/plain": [
       "0.2590136085081861"
      ]
     },
     "execution_count": 22,
     "metadata": {},
     "output_type": "execute_result"
    }
   ],
   "source": [
    "#v2\n",
    "MMADE20"
   ]
  },
  {
   "cell_type": "code",
   "execution_count": 23,
   "id": "893c3f08-1bff-4f43-b5c5-6b6a9803fb9a",
   "metadata": {},
   "outputs": [
    {
     "data": {
      "text/plain": [
       "0.04968025945554778"
      ]
     },
     "execution_count": 23,
     "metadata": {},
     "output_type": "execute_result"
    }
   ],
   "source": [
    "std20"
   ]
  },
  {
   "cell_type": "code",
   "execution_count": 24,
   "id": "07210441-cd7b-404f-ac36-85bcfb4d893a",
   "metadata": {},
   "outputs": [
    {
     "data": {
      "text/plain": [
       "0.12419784951559992"
      ]
     },
     "execution_count": 24,
     "metadata": {},
     "output_type": "execute_result"
    }
   ],
   "source": [
    "MMADE21"
   ]
  },
  {
   "cell_type": "code",
   "execution_count": 25,
   "id": "26ef3a9d-6bdd-42c1-8a58-fbcfa9a94b17",
   "metadata": {},
   "outputs": [
    {
     "data": {
      "text/plain": [
       "0.04509935428877889"
      ]
     },
     "execution_count": 25,
     "metadata": {},
     "output_type": "execute_result"
    }
   ],
   "source": [
    "std21"
   ]
  },
  {
   "cell_type": "code",
   "execution_count": 26,
   "id": "dc6342c9-3d3e-4b47-8d88-476f528f1d2e",
   "metadata": {},
   "outputs": [
    {
     "data": {
      "text/plain": [
       "0.0879615621238229"
      ]
     },
     "execution_count": 26,
     "metadata": {},
     "output_type": "execute_result"
    }
   ],
   "source": [
    "MMADE22"
   ]
  },
  {
   "cell_type": "code",
   "execution_count": 27,
   "id": "b5a67499-2284-4573-9177-4181f1ab03f7",
   "metadata": {},
   "outputs": [
    {
     "data": {
      "text/plain": [
       "0.03400076371876391"
      ]
     },
     "execution_count": 27,
     "metadata": {},
     "output_type": "execute_result"
    }
   ],
   "source": [
    "std22"
   ]
  },
  {
   "cell_type": "code",
   "execution_count": 28,
   "id": "7f9f0ca2-b09a-492d-81e4-baaba5abd97b",
   "metadata": {},
   "outputs": [
    {
     "data": {
      "text/plain": [
       "0.11890140354195186"
      ]
     },
     "execution_count": 28,
     "metadata": {},
     "output_type": "execute_result"
    }
   ],
   "source": [
    "MMADE23"
   ]
  },
  {
   "cell_type": "code",
   "execution_count": 29,
   "id": "5762d46c-98ab-464e-a8a7-ac6f3e443c87",
   "metadata": {},
   "outputs": [
    {
     "data": {
      "text/plain": [
       "0.04354461688318313"
      ]
     },
     "execution_count": 29,
     "metadata": {},
     "output_type": "execute_result"
    }
   ],
   "source": [
    "std23"
   ]
  },
  {
   "cell_type": "code",
   "execution_count": 30,
   "id": "68ecdef7-ea7b-4ae6-bf65-d759ca3f389b",
   "metadata": {},
   "outputs": [
    {
     "data": {
      "text/plain": [
       "0.10252461996729133"
      ]
     },
     "execution_count": 30,
     "metadata": {},
     "output_type": "execute_result"
    }
   ],
   "source": [
    "MMADE24"
   ]
  },
  {
   "cell_type": "code",
   "execution_count": 31,
   "id": "24bdd340-c9f3-4779-ad94-1aea60823303",
   "metadata": {},
   "outputs": [
    {
     "data": {
      "text/plain": [
       "0.03657149869264771"
      ]
     },
     "execution_count": 31,
     "metadata": {},
     "output_type": "execute_result"
    }
   ],
   "source": [
    "std24"
   ]
  },
  {
   "cell_type": "code",
   "execution_count": 32,
   "id": "4db622ea-704a-4015-97cf-79df0d571445",
   "metadata": {},
   "outputs": [
    {
     "data": {
      "text/plain": [
       "0.07802145979223979"
      ]
     },
     "execution_count": 32,
     "metadata": {},
     "output_type": "execute_result"
    }
   ],
   "source": [
    "MMADE25"
   ]
  },
  {
   "cell_type": "code",
   "execution_count": 33,
   "id": "aaeccfb4-ae6b-4c5b-94fa-5ccb59b29578",
   "metadata": {},
   "outputs": [
    {
     "data": {
      "text/plain": [
       "0.030621148336037816"
      ]
     },
     "execution_count": 33,
     "metadata": {},
     "output_type": "execute_result"
    }
   ],
   "source": [
    "std25"
   ]
  },
  {
   "cell_type": "code",
   "execution_count": 34,
   "id": "5f767726-88ed-4f9a-a0ed-6c80daafa2e8",
   "metadata": {},
   "outputs": [
    {
     "data": {
      "text/plain": [
       "0.05761827861561043"
      ]
     },
     "execution_count": 34,
     "metadata": {},
     "output_type": "execute_result"
    }
   ],
   "source": [
    "MMADE26"
   ]
  },
  {
   "cell_type": "code",
   "execution_count": 35,
   "id": "6a45fbdb-eba3-420d-a995-34b20ce1c626",
   "metadata": {},
   "outputs": [
    {
     "data": {
      "text/plain": [
       "0.02341472785112704"
      ]
     },
     "execution_count": 35,
     "metadata": {},
     "output_type": "execute_result"
    }
   ],
   "source": [
    "std26"
   ]
  },
  {
   "cell_type": "code",
   "execution_count": 36,
   "id": "019088f7-f4fb-4fce-af75-3541d0d0417f",
   "metadata": {},
   "outputs": [
    {
     "data": {
      "text/plain": [
       "0.061462185033614086"
      ]
     },
     "execution_count": 36,
     "metadata": {},
     "output_type": "execute_result"
    }
   ],
   "source": [
    "MMADE27"
   ]
  },
  {
   "cell_type": "code",
   "execution_count": 37,
   "id": "0a821e9f-c16e-4266-98dc-df1d055d7c86",
   "metadata": {},
   "outputs": [
    {
     "data": {
      "text/plain": [
       "0.023043483811118096"
      ]
     },
     "execution_count": 37,
     "metadata": {},
     "output_type": "execute_result"
    }
   ],
   "source": [
    "std27"
   ]
  },
  {
   "cell_type": "code",
   "execution_count": 38,
   "id": "09566684-97d1-4d68-a9e5-5bdf478be246",
   "metadata": {},
   "outputs": [
    {
     "data": {
      "text/plain": [
       "0.056601961865796746"
      ]
     },
     "execution_count": 38,
     "metadata": {},
     "output_type": "execute_result"
    }
   ],
   "source": [
    "MMADE28"
   ]
  },
  {
   "cell_type": "code",
   "execution_count": 39,
   "id": "6d4b7626-853f-4035-9067-e090932ca185",
   "metadata": {},
   "outputs": [
    {
     "data": {
      "text/plain": [
       "0.02025045082435767"
      ]
     },
     "execution_count": 39,
     "metadata": {},
     "output_type": "execute_result"
    }
   ],
   "source": [
    "std28"
   ]
  },
  {
   "cell_type": "code",
   "execution_count": 40,
   "id": "67d72e71-cb8a-409c-9efa-18793b357fcf",
   "metadata": {},
   "outputs": [
    {
     "data": {
      "text/plain": [
       "0.2793886853601509"
      ]
     },
     "execution_count": 40,
     "metadata": {},
     "output_type": "execute_result"
    }
   ],
   "source": [
    "#v3\n",
    "MMADE30"
   ]
  },
  {
   "cell_type": "code",
   "execution_count": 41,
   "id": "e1267b61-f40c-4c10-9de0-401c50ab66e0",
   "metadata": {},
   "outputs": [
    {
     "data": {
      "text/plain": [
       "0.05636385625584821"
      ]
     },
     "execution_count": 41,
     "metadata": {},
     "output_type": "execute_result"
    }
   ],
   "source": [
    "std30"
   ]
  },
  {
   "cell_type": "code",
   "execution_count": 42,
   "id": "4c5f104f-4449-4a48-948c-d405d4d828f1",
   "metadata": {},
   "outputs": [
    {
     "data": {
      "text/plain": [
       "0.13088142711702055"
      ]
     },
     "execution_count": 42,
     "metadata": {},
     "output_type": "execute_result"
    }
   ],
   "source": [
    "MMADE31"
   ]
  },
  {
   "cell_type": "code",
   "execution_count": 43,
   "id": "af0663e6-256e-4f6e-b6d4-c5f2103e4c5d",
   "metadata": {},
   "outputs": [
    {
     "data": {
      "text/plain": [
       "0.04523102829205948"
      ]
     },
     "execution_count": 43,
     "metadata": {},
     "output_type": "execute_result"
    }
   ],
   "source": [
    "std31"
   ]
  },
  {
   "cell_type": "code",
   "execution_count": 44,
   "id": "e5a92ec1-41f0-4721-ac1a-e67dc0c36b12",
   "metadata": {},
   "outputs": [
    {
     "data": {
      "text/plain": [
       "0.09581666466039124"
      ]
     },
     "execution_count": 44,
     "metadata": {},
     "output_type": "execute_result"
    }
   ],
   "source": [
    "MMADE32"
   ]
  },
  {
   "cell_type": "code",
   "execution_count": 45,
   "id": "76c0d510-2072-4be6-a09b-7819c4795412",
   "metadata": {},
   "outputs": [
    {
     "data": {
      "text/plain": [
       "0.036461094006500806"
      ]
     },
     "execution_count": 45,
     "metadata": {},
     "output_type": "execute_result"
    }
   ],
   "source": [
    "std32"
   ]
  },
  {
   "cell_type": "code",
   "execution_count": 46,
   "id": "184b6163-1a0c-4a87-b67e-a3aae7a98423",
   "metadata": {},
   "outputs": [
    {
     "data": {
      "text/plain": [
       "0.12073547497789489"
      ]
     },
     "execution_count": 46,
     "metadata": {},
     "output_type": "execute_result"
    }
   ],
   "source": [
    "MMADE33"
   ]
  },
  {
   "cell_type": "code",
   "execution_count": 47,
   "id": "987bd57f-700f-411b-939f-553107af0fb2",
   "metadata": {},
   "outputs": [
    {
     "data": {
      "text/plain": [
       "0.0448849681437051"
      ]
     },
     "execution_count": 47,
     "metadata": {},
     "output_type": "execute_result"
    }
   ],
   "source": [
    "std33"
   ]
  },
  {
   "cell_type": "code",
   "execution_count": 48,
   "id": "ce136d99-85ea-4621-9b31-b674b00691e3",
   "metadata": {},
   "outputs": [
    {
     "data": {
      "text/plain": [
       "0.10363605060636305"
      ]
     },
     "execution_count": 48,
     "metadata": {},
     "output_type": "execute_result"
    }
   ],
   "source": [
    "MMADE34"
   ]
  },
  {
   "cell_type": "code",
   "execution_count": 49,
   "id": "309c2771-3c5b-4b8f-a856-6a21885052ef",
   "metadata": {},
   "outputs": [
    {
     "data": {
      "text/plain": [
       "0.03930533856999707"
      ]
     },
     "execution_count": 49,
     "metadata": {},
     "output_type": "execute_result"
    }
   ],
   "source": [
    "std34"
   ]
  },
  {
   "cell_type": "code",
   "execution_count": 50,
   "id": "0d894662-d981-4831-bab8-c5c742ccd878",
   "metadata": {},
   "outputs": [
    {
     "data": {
      "text/plain": [
       "0.07637790866439645"
      ]
     },
     "execution_count": 50,
     "metadata": {},
     "output_type": "execute_result"
    }
   ],
   "source": [
    "MMADE35"
   ]
  },
  {
   "cell_type": "code",
   "execution_count": 51,
   "id": "5429df63-7eae-4bc2-b3ae-5d95f225856b",
   "metadata": {},
   "outputs": [
    {
     "data": {
      "text/plain": [
       "0.02867156813461719"
      ]
     },
     "execution_count": 51,
     "metadata": {},
     "output_type": "execute_result"
    }
   ],
   "source": [
    "std35"
   ]
  },
  {
   "cell_type": "code",
   "execution_count": 52,
   "id": "eb24bfaf-137a-466e-92b9-0051a2ad9155",
   "metadata": {},
   "outputs": [
    {
     "data": {
      "text/plain": [
       "0.06233843957797098"
      ]
     },
     "execution_count": 52,
     "metadata": {},
     "output_type": "execute_result"
    }
   ],
   "source": [
    "MMADE36"
   ]
  },
  {
   "cell_type": "code",
   "execution_count": 53,
   "id": "c43af1ea-ed9e-42b3-9d85-433a43e26d1d",
   "metadata": {},
   "outputs": [
    {
     "data": {
      "text/plain": [
       "0.024119107940748934"
      ]
     },
     "execution_count": 53,
     "metadata": {},
     "output_type": "execute_result"
    }
   ],
   "source": [
    "std36"
   ]
  },
  {
   "cell_type": "code",
   "execution_count": 54,
   "id": "5bfc37ee-477e-4f09-a653-407b8a433ad8",
   "metadata": {},
   "outputs": [
    {
     "data": {
      "text/plain": [
       "0.06398931387214384"
      ]
     },
     "execution_count": 54,
     "metadata": {},
     "output_type": "execute_result"
    }
   ],
   "source": [
    "MMADE37"
   ]
  },
  {
   "cell_type": "code",
   "execution_count": 55,
   "id": "c90c0541-0304-4eec-9a36-e2eeac7f649e",
   "metadata": {},
   "outputs": [
    {
     "data": {
      "text/plain": [
       "0.022038397966698306"
      ]
     },
     "execution_count": 55,
     "metadata": {},
     "output_type": "execute_result"
    }
   ],
   "source": [
    "std37"
   ]
  },
  {
   "cell_type": "code",
   "execution_count": 56,
   "id": "a8e73291-50d1-4bcc-9eb5-bcb317ef07a9",
   "metadata": {},
   "outputs": [
    {
     "data": {
      "text/plain": [
       "0.06357337669242749"
      ]
     },
     "execution_count": 56,
     "metadata": {},
     "output_type": "execute_result"
    }
   ],
   "source": [
    "MMADE38"
   ]
  },
  {
   "cell_type": "code",
   "execution_count": 57,
   "id": "931cb57c-a2ca-449d-898b-fd4eb7335448",
   "metadata": {},
   "outputs": [
    {
     "data": {
      "text/plain": [
       "0.023152567099535146"
      ]
     },
     "execution_count": 57,
     "metadata": {},
     "output_type": "execute_result"
    }
   ],
   "source": [
    "std38"
   ]
  },
  {
   "cell_type": "code",
   "execution_count": 58,
   "id": "ce920e13-6a03-4ccf-8881-eaf77ea1c447",
   "metadata": {},
   "outputs": [
    {
     "data": {
      "text/plain": [
       "0.26952113844534653"
      ]
     },
     "execution_count": 58,
     "metadata": {},
     "output_type": "execute_result"
    }
   ],
   "source": [
    "#v4\n",
    "MMADE40"
   ]
  },
  {
   "cell_type": "code",
   "execution_count": 59,
   "id": "bff12c57-64d8-4b32-bfcc-691f23a94b9d",
   "metadata": {},
   "outputs": [
    {
     "data": {
      "text/plain": [
       "0.05315959752299605"
      ]
     },
     "execution_count": 59,
     "metadata": {},
     "output_type": "execute_result"
    }
   ],
   "source": [
    "std40"
   ]
  },
  {
   "cell_type": "code",
   "execution_count": 60,
   "id": "7855ed92-9bc2-483d-94ab-8c91cf283fe8",
   "metadata": {},
   "outputs": [
    {
     "data": {
      "text/plain": [
       "0.132699674976694"
      ]
     },
     "execution_count": 60,
     "metadata": {},
     "output_type": "execute_result"
    }
   ],
   "source": [
    "MMADE41"
   ]
  },
  {
   "cell_type": "code",
   "execution_count": 61,
   "id": "848f412b-133c-4b7c-89af-a274d69d5cc4",
   "metadata": {},
   "outputs": [
    {
     "data": {
      "text/plain": [
       "0.047478645246534654"
      ]
     },
     "execution_count": 61,
     "metadata": {},
     "output_type": "execute_result"
    }
   ],
   "source": [
    "std41"
   ]
  },
  {
   "cell_type": "code",
   "execution_count": 62,
   "id": "e57beff5-965b-4bc0-b1cb-4593f4042bae",
   "metadata": {},
   "outputs": [
    {
     "data": {
      "text/plain": [
       "0.09784682028267083"
      ]
     },
     "execution_count": 62,
     "metadata": {},
     "output_type": "execute_result"
    }
   ],
   "source": [
    "MMADE42"
   ]
  },
  {
   "cell_type": "code",
   "execution_count": 63,
   "id": "432e8965-1ca9-425f-a9ff-264241f4f1b8",
   "metadata": {},
   "outputs": [
    {
     "data": {
      "text/plain": [
       "0.038420128287450526"
      ]
     },
     "execution_count": 63,
     "metadata": {},
     "output_type": "execute_result"
    }
   ],
   "source": [
    "std42"
   ]
  },
  {
   "cell_type": "code",
   "execution_count": 64,
   "id": "f82e0ebc-ce58-47ab-b8d5-f938139cc4b2",
   "metadata": {},
   "outputs": [
    {
     "data": {
      "text/plain": [
       "0.1288982366799285"
      ]
     },
     "execution_count": 64,
     "metadata": {},
     "output_type": "execute_result"
    }
   ],
   "source": [
    "MMADE43"
   ]
  },
  {
   "cell_type": "code",
   "execution_count": 65,
   "id": "4d2daeb1-35be-42d8-b428-d8c58b566b31",
   "metadata": {},
   "outputs": [
    {
     "data": {
      "text/plain": [
       "0.045459854554771834"
      ]
     },
     "execution_count": 65,
     "metadata": {},
     "output_type": "execute_result"
    }
   ],
   "source": [
    "std43"
   ]
  },
  {
   "cell_type": "code",
   "execution_count": 66,
   "id": "c4c92e8e-74dc-4fae-b3cb-b0f5f2b7a303",
   "metadata": {},
   "outputs": [
    {
     "data": {
      "text/plain": [
       "0.10780135842078863"
      ]
     },
     "execution_count": 66,
     "metadata": {},
     "output_type": "execute_result"
    }
   ],
   "source": [
    "MMADE44"
   ]
  },
  {
   "cell_type": "code",
   "execution_count": 67,
   "id": "f04bde40-e496-4ec7-a437-3e28dece9a84",
   "metadata": {},
   "outputs": [
    {
     "data": {
      "text/plain": [
       "0.04083285930620798"
      ]
     },
     "execution_count": 67,
     "metadata": {},
     "output_type": "execute_result"
    }
   ],
   "source": [
    "std44"
   ]
  },
  {
   "cell_type": "code",
   "execution_count": 68,
   "id": "130ea607-01e9-4c97-8bd5-802cfe80c1f0",
   "metadata": {},
   "outputs": [
    {
     "data": {
      "text/plain": [
       "0.07927977345738256"
      ]
     },
     "execution_count": 68,
     "metadata": {},
     "output_type": "execute_result"
    }
   ],
   "source": [
    "MMADE45"
   ]
  },
  {
   "cell_type": "code",
   "execution_count": 69,
   "id": "6402c07a-4947-4336-8d97-8b1f8682c7c4",
   "metadata": {},
   "outputs": [
    {
     "data": {
      "text/plain": [
       "0.03100560003297168"
      ]
     },
     "execution_count": 69,
     "metadata": {},
     "output_type": "execute_result"
    }
   ],
   "source": [
    "std45"
   ]
  },
  {
   "cell_type": "code",
   "execution_count": 70,
   "id": "47bebbdf-b0de-488b-a408-66a2dc0fa8ae",
   "metadata": {},
   "outputs": [
    {
     "data": {
      "text/plain": [
       "0.0657209041728529"
      ]
     },
     "execution_count": 70,
     "metadata": {},
     "output_type": "execute_result"
    }
   ],
   "source": [
    "MMADE46"
   ]
  },
  {
   "cell_type": "code",
   "execution_count": 71,
   "id": "b8744238-1eb0-4336-bf0e-3ea214d9d4dc",
   "metadata": {},
   "outputs": [
    {
     "data": {
      "text/plain": [
       "0.023821221229195683"
      ]
     },
     "execution_count": 71,
     "metadata": {},
     "output_type": "execute_result"
    }
   ],
   "source": [
    "std46"
   ]
  },
  {
   "cell_type": "code",
   "execution_count": 72,
   "id": "db4d3a44-822a-40ff-ba4f-62d7b9299e9f",
   "metadata": {},
   "outputs": [
    {
     "data": {
      "text/plain": [
       "0.06661111793220517"
      ]
     },
     "execution_count": 72,
     "metadata": {},
     "output_type": "execute_result"
    }
   ],
   "source": [
    "MMADE47"
   ]
  },
  {
   "cell_type": "code",
   "execution_count": 73,
   "id": "58062c90-8b4f-4a60-8200-f6e8710121c0",
   "metadata": {},
   "outputs": [
    {
     "data": {
      "text/plain": [
       "0.02511353545176255"
      ]
     },
     "execution_count": 73,
     "metadata": {},
     "output_type": "execute_result"
    }
   ],
   "source": [
    "std47"
   ]
  },
  {
   "cell_type": "code",
   "execution_count": 74,
   "id": "2d123cd6-588e-4082-be2a-874910a2d100",
   "metadata": {},
   "outputs": [
    {
     "data": {
      "text/plain": [
       "0.06656276018084042"
      ]
     },
     "execution_count": 74,
     "metadata": {},
     "output_type": "execute_result"
    }
   ],
   "source": [
    "MMADE48"
   ]
  },
  {
   "cell_type": "code",
   "execution_count": 75,
   "id": "5cd57247-d741-4b02-aaf2-0d3b7cdd1a72",
   "metadata": {},
   "outputs": [
    {
     "data": {
      "text/plain": [
       "0.02172820453604268"
      ]
     },
     "execution_count": 75,
     "metadata": {},
     "output_type": "execute_result"
    }
   ],
   "source": [
    "std48"
   ]
  },
  {
   "cell_type": "code",
   "execution_count": null,
   "id": "b45eb0f7-a2c6-4434-aecc-9c1a7e7bebf3",
   "metadata": {},
   "outputs": [],
   "source": []
  },
  {
   "cell_type": "code",
   "execution_count": null,
   "id": "2db9f764-36f8-4429-b989-1fceffeb0624",
   "metadata": {},
   "outputs": [],
   "source": []
  },
  {
   "cell_type": "code",
   "execution_count": 76,
   "id": "203da6b4-657f-4cce-8485-bc11a4e12c4f",
   "metadata": {},
   "outputs": [
    {
     "data": {
      "text/plain": [
       "0.15149830676772957"
      ]
     },
     "execution_count": 76,
     "metadata": {},
     "output_type": "execute_result"
    }
   ],
   "source": [
    "np.mean(np.absolute((ainfinal1[:,1])-(aintrue11*((0.2*(tau)**2)+0.8))))"
   ]
  },
  {
   "cell_type": "code",
   "execution_count": 77,
   "id": "dd9e5894-c559-461b-9ef8-dca329d19235",
   "metadata": {},
   "outputs": [
    {
     "data": {
      "text/plain": [
       "0.09290548576231007"
      ]
     },
     "execution_count": 77,
     "metadata": {},
     "output_type": "execute_result"
    }
   ],
   "source": [
    "np.mean(np.absolute((ainfinal1[:,2])-(aintrue12*((0.2*np.exp(tau))+0.8))))"
   ]
  },
  {
   "cell_type": "code",
   "execution_count": 78,
   "id": "9e66f3a8-2c1f-4921-b0e0-ca6cda49d8f2",
   "metadata": {},
   "outputs": [
    {
     "data": {
      "text/plain": [
       "0.1534855704342962"
      ]
     },
     "execution_count": 78,
     "metadata": {},
     "output_type": "execute_result"
    }
   ],
   "source": [
    "np.mean(np.absolute((ainfinal1[:,3])-(aintrue13*((0.2*(tau)**2)+0.8))))"
   ]
  },
  {
   "cell_type": "code",
   "execution_count": 79,
   "id": "86a5efaa-36b4-4063-b877-3d956c63017f",
   "metadata": {},
   "outputs": [
    {
     "data": {
      "text/plain": [
       "0.09424474587048604"
      ]
     },
     "execution_count": 79,
     "metadata": {},
     "output_type": "execute_result"
    }
   ],
   "source": [
    "np.mean(np.absolute((ainfinal1[:,4])-(aintrue14*((0.2*np.exp(tau))+0.8))))"
   ]
  },
  {
   "cell_type": "code",
   "execution_count": 80,
   "id": "b1762b28-dcf1-4656-8167-cd6357ddd83f",
   "metadata": {},
   "outputs": [
    {
     "data": {
      "text/plain": [
       "0.12895491292717964"
      ]
     },
     "execution_count": 80,
     "metadata": {},
     "output_type": "execute_result"
    }
   ],
   "source": [
    "np.mean(np.absolute((ainfinal2[:,1])-(aintrue21*((0.2*(tau)**2)+0.8))))"
   ]
  },
  {
   "cell_type": "code",
   "execution_count": 81,
   "id": "b6827a08-80f9-4847-802d-f00af12b5f8e",
   "metadata": {},
   "outputs": [
    {
     "data": {
      "text/plain": [
       "0.12585058819672446"
      ]
     },
     "execution_count": 81,
     "metadata": {},
     "output_type": "execute_result"
    }
   ],
   "source": [
    "np.mean(np.absolute((ainfinal2[:,2])-(aintrue22*((0.2*np.exp(tau))+0.8))))"
   ]
  },
  {
   "cell_type": "code",
   "execution_count": 82,
   "id": "ca10eb86-959c-4ea3-8cbc-eedaa4c9b859",
   "metadata": {},
   "outputs": [
    {
     "data": {
      "text/plain": [
       "0.14100511822827733"
      ]
     },
     "execution_count": 82,
     "metadata": {},
     "output_type": "execute_result"
    }
   ],
   "source": [
    "np.mean(np.absolute((ainfinal2[:,3])-(aintrue23*((0.2*(tau)**2)+0.8))))"
   ]
  },
  {
   "cell_type": "code",
   "execution_count": 83,
   "id": "02f9554a-59b9-456a-b2d2-5ee45981dbfc",
   "metadata": {},
   "outputs": [
    {
     "data": {
      "text/plain": [
       "0.07304192342355625"
      ]
     },
     "execution_count": 83,
     "metadata": {},
     "output_type": "execute_result"
    }
   ],
   "source": [
    "np.mean(np.absolute((ainfinal2[:,4])-(aintrue24*((0.2*np.exp(tau))+0.8))))"
   ]
  },
  {
   "cell_type": "code",
   "execution_count": 84,
   "id": "540575f2-d0c3-4a30-9390-dfd0a8dede0a",
   "metadata": {},
   "outputs": [
    {
     "data": {
      "text/plain": [
       "0.17710841935735278"
      ]
     },
     "execution_count": 84,
     "metadata": {},
     "output_type": "execute_result"
    }
   ],
   "source": [
    "np.mean(np.absolute((ainfinal3[:,1])-(aintrue31*((0.2*(tau)**2)+0.8))))"
   ]
  },
  {
   "cell_type": "code",
   "execution_count": 85,
   "id": "7b60d4c1-947c-42bd-abd5-4acbe963feac",
   "metadata": {},
   "outputs": [
    {
     "data": {
      "text/plain": [
       "0.14709802984911932"
      ]
     },
     "execution_count": 85,
     "metadata": {},
     "output_type": "execute_result"
    }
   ],
   "source": [
    "np.mean(np.absolute((ainfinal3[:,2])-(aintrue32*((0.2*np.exp(tau))+0.8))))"
   ]
  },
  {
   "cell_type": "code",
   "execution_count": 86,
   "id": "cdda3429-981c-4eb0-b90f-451ae8a4ac82",
   "metadata": {},
   "outputs": [
    {
     "data": {
      "text/plain": [
       "0.08032688141031002"
      ]
     },
     "execution_count": 86,
     "metadata": {},
     "output_type": "execute_result"
    }
   ],
   "source": [
    "np.mean(np.absolute((ainfinal3[:,3])-(aintrue33*((0.2*(tau)**2)+0.8))))"
   ]
  },
  {
   "cell_type": "code",
   "execution_count": 87,
   "id": "346f0429-6496-47f9-902b-488c0737a150",
   "metadata": {},
   "outputs": [
    {
     "data": {
      "text/plain": [
       "0.12639599775234175"
      ]
     },
     "execution_count": 87,
     "metadata": {},
     "output_type": "execute_result"
    }
   ],
   "source": [
    "np.mean(np.absolute((ainfinal3[:,4])-(aintrue34*((0.2*np.exp(tau))+0.8))))"
   ]
  },
  {
   "cell_type": "code",
   "execution_count": 88,
   "id": "9f3d339b-7305-4e75-a67a-dbe238708683",
   "metadata": {},
   "outputs": [
    {
     "data": {
      "text/plain": [
       "0.06946701008884057"
      ]
     },
     "execution_count": 88,
     "metadata": {},
     "output_type": "execute_result"
    }
   ],
   "source": [
    "np.mean(np.absolute((ainfinal4[:,1])-(aintrue41*((0.2*(tau)**2)+0.8))))"
   ]
  },
  {
   "cell_type": "code",
   "execution_count": 89,
   "id": "f33b5850-5c15-4a38-ae7b-6b7e8f594e4b",
   "metadata": {},
   "outputs": [
    {
     "data": {
      "text/plain": [
       "0.07676449723651295"
      ]
     },
     "execution_count": 89,
     "metadata": {},
     "output_type": "execute_result"
    }
   ],
   "source": [
    "np.mean(np.absolute((ainfinal4[:,2])-(aintrue42*((0.2*np.exp(tau))+0.8))))"
   ]
  },
  {
   "cell_type": "code",
   "execution_count": 90,
   "id": "500e0b5c-544c-4ac8-b6c6-5c40550bc791",
   "metadata": {},
   "outputs": [
    {
     "data": {
      "text/plain": [
       "0.06956780818355923"
      ]
     },
     "execution_count": 90,
     "metadata": {},
     "output_type": "execute_result"
    }
   ],
   "source": [
    "np.mean(np.absolute((ainfinal4[:,3])-(aintrue43*((0.2*(tau)**2)+0.8))))"
   ]
  },
  {
   "cell_type": "code",
   "execution_count": 91,
   "id": "f693ffc1-0d86-4641-8c59-0796ad609130",
   "metadata": {},
   "outputs": [
    {
     "data": {
      "text/plain": [
       "0.09265617723842189"
      ]
     },
     "execution_count": 91,
     "metadata": {},
     "output_type": "execute_result"
    }
   ],
   "source": [
    "np.mean(np.absolute((ainfinal4[:,4])-(aintrue44*((0.2*np.exp(tau))+0.8))))"
   ]
  }
 ],
 "metadata": {
  "kernelspec": {
   "display_name": "Python 3 (ipykernel)",
   "language": "python",
   "name": "python3"
  },
  "language_info": {
   "codemirror_mode": {
    "name": "ipython",
    "version": 3
   },
   "file_extension": ".py",
   "mimetype": "text/x-python",
   "name": "python",
   "nbconvert_exporter": "python",
   "pygments_lexer": "ipython3",
   "version": "3.12.3"
  }
 },
 "nbformat": 4,
 "nbformat_minor": 5
}
